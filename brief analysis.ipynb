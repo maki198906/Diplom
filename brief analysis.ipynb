{
 "cells": [
  {
   "cell_type": "code",
   "execution_count": 109,
   "metadata": {},
   "outputs": [],
   "source": [
    "import pandas as pd\n",
    "import re\n",
    "import html\n",
    "from datetime import datetime"
   ]
  },
  {
   "cell_type": "code",
   "execution_count": 54,
   "metadata": {},
   "outputs": [],
   "source": [
    "import matplotlib.pyplot as plt\n",
    "%matplotlib inline"
   ]
  },
  {
   "cell_type": "code",
   "execution_count": 1073,
   "metadata": {},
   "outputs": [],
   "source": [
    "df_tags = pd.read_csv('Tags.csv',usecols =['Id','TagName','Count','ExcerptPostId','WikiPostId'])"
   ]
  },
  {
   "cell_type": "markdown",
   "metadata": {},
   "source": [
    "### TAGS"
   ]
  },
  {
   "cell_type": "code",
   "execution_count": null,
   "metadata": {},
   "outputs": [],
   "source": [
    "# сделаем сводный датасет, чтобы видеть выдержку об тэге"
   ]
  },
  {
   "cell_type": "code",
   "execution_count": 1100,
   "metadata": {},
   "outputs": [],
   "source": [
    "df_tags_test = df_tags.copy()\n",
    "df_tags_test = df.loc[:,'TagName':'WikiPostId']"
   ]
  },
  {
   "cell_type": "code",
   "execution_count": 1101,
   "metadata": {},
   "outputs": [],
   "source": [
    "df_tags_test['Id'] = df_tags_test['ExcerptPostId']"
   ]
  },
  {
   "cell_type": "code",
   "execution_count": 1112,
   "metadata": {},
   "outputs": [],
   "source": [
    "df_Excerpt = df_tags_test.merge(df_post,how = 'left',on ='Id')[['Id','TagName','Body']]"
   ]
  },
  {
   "cell_type": "code",
   "execution_count": 1114,
   "metadata": {},
   "outputs": [],
   "source": [
    "df_Excerpt.rename(columns={'Body':'Excerpt'},inplace=True)"
   ]
  },
  {
   "cell_type": "code",
   "execution_count": 1130,
   "metadata": {},
   "outputs": [],
   "source": [
    "df_WikiPostId = df_tags_test.merge(df_post,how = 'left',on ='Id')[['Id','TagName','Body']]"
   ]
  },
  {
   "cell_type": "code",
   "execution_count": 1131,
   "metadata": {},
   "outputs": [],
   "source": [
    "df_WikiPostId.rename(columns={'Body':'WikiPostId'},inplace=True)"
   ]
  },
  {
   "cell_type": "code",
   "execution_count": 1132,
   "metadata": {},
   "outputs": [
    {
     "data": {
      "text/plain": [
       "True"
      ]
     },
     "execution_count": 1132,
     "metadata": {},
     "output_type": "execute_result"
    }
   ],
   "source": [
    "len(df_Excerpt) == len(df_WikiPostId)"
   ]
  },
  {
   "cell_type": "code",
   "execution_count": 1150,
   "metadata": {},
   "outputs": [],
   "source": [
    "df_tags_Excerpt = pd.concat([df_Excerpt,df_WikiPostId.loc[:,['WikiPostId']]],axis = 1)"
   ]
  },
  {
   "cell_type": "code",
   "execution_count": 1151,
   "metadata": {},
   "outputs": [
    {
     "data": {
      "text/html": [
       "<div>\n",
       "<style scoped>\n",
       "    .dataframe tbody tr th:only-of-type {\n",
       "        vertical-align: middle;\n",
       "    }\n",
       "\n",
       "    .dataframe tbody tr th {\n",
       "        vertical-align: top;\n",
       "    }\n",
       "\n",
       "    .dataframe thead th {\n",
       "        text-align: right;\n",
       "    }\n",
       "</style>\n",
       "<table border=\"1\" class=\"dataframe\">\n",
       "  <thead>\n",
       "    <tr style=\"text-align: right;\">\n",
       "      <th></th>\n",
       "      <th>Id</th>\n",
       "      <th>TagName</th>\n",
       "      <th>Excerpt</th>\n",
       "      <th>WikiPostId</th>\n",
       "    </tr>\n",
       "  </thead>\n",
       "  <tbody>\n",
       "    <tr>\n",
       "      <th>0</th>\n",
       "      <td>413473.0</td>\n",
       "      <td>python</td>\n",
       "      <td>Python — высокоуровневый язык с динамической т...</td>\n",
       "      <td>&lt;p&gt;&lt;a href=\"https://www.python.org/\" rel=\"nofo...</td>\n",
       "    </tr>\n",
       "    <tr>\n",
       "      <th>1</th>\n",
       "      <td>703568.0</td>\n",
       "      <td>smtp</td>\n",
       "      <td>Простой протокол передачи почты (SMTP) - это с...</td>\n",
       "      <td>&lt;p&gt;SMTP был впервые определен &lt;a href=\"https:/...</td>\n",
       "    </tr>\n",
       "    <tr>\n",
       "      <th>2</th>\n",
       "      <td>414254.0</td>\n",
       "      <td>postgresql</td>\n",
       "      <td>PostgreSQL — объектно-реляционная система упра...</td>\n",
       "      <td>&lt;p&gt;PostgreSQL — объектно-реляционная система у...</td>\n",
       "    </tr>\n",
       "    <tr>\n",
       "      <th>3</th>\n",
       "      <td>413332.0</td>\n",
       "      <td>linux</td>\n",
       "      <td>Linux — общее название UNIX-подобных операцион...</td>\n",
       "      <td>&lt;p&gt;Linux — семейство UNIX-подобных операционны...</td>\n",
       "    </tr>\n",
       "    <tr>\n",
       "      <th>4</th>\n",
       "      <td>414905.0</td>\n",
       "      <td>svn</td>\n",
       "      <td>NaN</td>\n",
       "      <td>NaN</td>\n",
       "    </tr>\n",
       "  </tbody>\n",
       "</table>\n",
       "</div>"
      ],
      "text/plain": [
       "         Id     TagName                                            Excerpt  \\\n",
       "0  413473.0      python  Python — высокоуровневый язык с динамической т...   \n",
       "1  703568.0        smtp  Простой протокол передачи почты (SMTP) - это с...   \n",
       "2  414254.0  postgresql  PostgreSQL — объектно-реляционная система упра...   \n",
       "3  413332.0       linux  Linux — общее название UNIX-подобных операцион...   \n",
       "4  414905.0         svn                                                NaN   \n",
       "\n",
       "                                          WikiPostId  \n",
       "0  <p><a href=\"https://www.python.org/\" rel=\"nofo...  \n",
       "1  <p>SMTP был впервые определен <a href=\"https:/...  \n",
       "2  <p>PostgreSQL — объектно-реляционная система у...  \n",
       "3  <p>Linux — семейство UNIX-подобных операционны...  \n",
       "4                                                NaN  "
      ]
     },
     "execution_count": 1151,
     "metadata": {},
     "output_type": "execute_result"
    }
   ],
   "source": [
    "df_tags_Excerpt.head()"
   ]
  },
  {
   "cell_type": "code",
   "execution_count": 1074,
   "metadata": {},
   "outputs": [
    {
     "data": {
      "text/html": [
       "<div>\n",
       "<style scoped>\n",
       "    .dataframe tbody tr th:only-of-type {\n",
       "        vertical-align: middle;\n",
       "    }\n",
       "\n",
       "    .dataframe tbody tr th {\n",
       "        vertical-align: top;\n",
       "    }\n",
       "\n",
       "    .dataframe thead th {\n",
       "        text-align: right;\n",
       "    }\n",
       "</style>\n",
       "<table border=\"1\" class=\"dataframe\">\n",
       "  <thead>\n",
       "    <tr style=\"text-align: right;\">\n",
       "      <th></th>\n",
       "      <th>Id</th>\n",
       "      <th>TagName</th>\n",
       "      <th>Count</th>\n",
       "      <th>ExcerptPostId</th>\n",
       "      <th>WikiPostId</th>\n",
       "    </tr>\n",
       "  </thead>\n",
       "  <tbody>\n",
       "    <tr>\n",
       "      <th>0</th>\n",
       "      <td>1</td>\n",
       "      <td>python</td>\n",
       "      <td>15829</td>\n",
       "      <td>413473.0</td>\n",
       "      <td>413472.0</td>\n",
       "    </tr>\n",
       "    <tr>\n",
       "      <th>1</th>\n",
       "      <td>2</td>\n",
       "      <td>smtp</td>\n",
       "      <td>199</td>\n",
       "      <td>703568.0</td>\n",
       "      <td>703567.0</td>\n",
       "    </tr>\n",
       "    <tr>\n",
       "      <th>2</th>\n",
       "      <td>3</td>\n",
       "      <td>postgresql</td>\n",
       "      <td>1967</td>\n",
       "      <td>414254.0</td>\n",
       "      <td>414253.0</td>\n",
       "    </tr>\n",
       "    <tr>\n",
       "      <th>3</th>\n",
       "      <td>4</td>\n",
       "      <td>linux</td>\n",
       "      <td>5866</td>\n",
       "      <td>413332.0</td>\n",
       "      <td>413331.0</td>\n",
       "    </tr>\n",
       "    <tr>\n",
       "      <th>4</th>\n",
       "      <td>5</td>\n",
       "      <td>svn</td>\n",
       "      <td>105</td>\n",
       "      <td>414905.0</td>\n",
       "      <td>414904.0</td>\n",
       "    </tr>\n",
       "  </tbody>\n",
       "</table>\n",
       "</div>"
      ],
      "text/plain": [
       "   Id     TagName  Count  ExcerptPostId  WikiPostId\n",
       "0   1      python  15829       413473.0    413472.0\n",
       "1   2        smtp    199       703568.0    703567.0\n",
       "2   3  postgresql   1967       414254.0    414253.0\n",
       "3   4       linux   5866       413332.0    413331.0\n",
       "4   5         svn    105       414905.0    414904.0"
      ]
     },
     "execution_count": 1074,
     "metadata": {},
     "output_type": "execute_result"
    }
   ],
   "source": [
    "df_tags.head()"
   ]
  },
  {
   "cell_type": "code",
   "execution_count": 1076,
   "metadata": {},
   "outputs": [
    {
     "data": {
      "text/plain": [
       "<matplotlib.axes._subplots.AxesSubplot at 0x1d274b16d8>"
      ]
     },
     "execution_count": 1076,
     "metadata": {},
     "output_type": "execute_result"
    },
    {
     "data": {
      "image/png": "[encoded data removed]",
      "text/plain": [
       "<Figure size 432x288 with 1 Axes>"
      ]
     },
     "metadata": {
      "needs_background": "light"
     },
     "output_type": "display_data"
    }
   ],
   "source": [
    "df_tags.loc[:,['TagName','Count']].sort_values(by = 'Count',ascending = False).head(20).plot(kind = 'bar',x='TagName')"
   ]
  },
  {
   "cell_type": "markdown",
   "metadata": {},
   "source": [
    "### BADGES"
   ]
  },
  {
   "cell_type": "code",
   "execution_count": 1077,
   "metadata": {},
   "outputs": [],
   "source": [
    "df_badges = pd.read_csv('Badges.csv')\n",
    "df_badges = df_badges.iloc[:,1:]"
   ]
  },
  {
   "cell_type": "code",
   "execution_count": 189,
   "metadata": {},
   "outputs": [],
   "source": [
    "def str_to_datetime_year(timestamp):\n",
    "    f = '%Y-%m-%dT%H:%M:%S.%f'\n",
    "    data_time = datetime.strptime(timestamp, f)\n",
    "    return data_time.year"
   ]
  },
  {
   "cell_type": "code",
   "execution_count": 187,
   "metadata": {},
   "outputs": [],
   "source": [
    "def str_to_datetime_month(timestamp):\n",
    "    f = '%Y-%m-%dT%H:%M:%S.%f'\n",
    "    data_time = datetime.strptime(timestamp, f)\n",
    "    return data_time.month"
   ]
  },
  {
   "cell_type": "code",
   "execution_count": 188,
   "metadata": {},
   "outputs": [],
   "source": [
    "def str_to_datetime_day(timestamp):\n",
    "    f = '%Y-%m-%dT%H:%M:%S.%f'\n",
    "    data_time = datetime.strptime(timestamp, f)\n",
    "    return data_time.day"
   ]
  },
  {
   "cell_type": "code",
   "execution_count": 193,
   "metadata": {},
   "outputs": [],
   "source": [
    "df_badges['Year'] = df_badges['Date'].apply(str_to_datetime_year)\n",
    "df_badges['Month'] = df_badges['Date'].apply(str_to_datetime_month)\n",
    "df_badges['Day'] = df_badges['Date'].apply(str_to_datetime_day)"
   ]
  },
  {
   "cell_type": "code",
   "execution_count": 671,
   "metadata": {},
   "outputs": [
    {
     "data": {
      "text/html": [
       "<div>\n",
       "<style scoped>\n",
       "    .dataframe tbody tr th:only-of-type {\n",
       "        vertical-align: middle;\n",
       "    }\n",
       "\n",
       "    .dataframe tbody tr th {\n",
       "        vertical-align: top;\n",
       "    }\n",
       "\n",
       "    .dataframe thead th {\n",
       "        text-align: right;\n",
       "    }\n",
       "</style>\n",
       "<table border=\"1\" class=\"dataframe\">\n",
       "  <thead>\n",
       "    <tr style=\"text-align: right;\">\n",
       "      <th></th>\n",
       "      <th>Id</th>\n",
       "      <th>UserId</th>\n",
       "      <th>Name</th>\n",
       "      <th>Date</th>\n",
       "      <th>Class</th>\n",
       "      <th>TagBased</th>\n",
       "      <th>Year</th>\n",
       "      <th>Month</th>\n",
       "      <th>Day</th>\n",
       "    </tr>\n",
       "  </thead>\n",
       "  <tbody>\n",
       "    <tr>\n",
       "      <th>0</th>\n",
       "      <td>40165</td>\n",
       "      <td>10105</td>\n",
       "      <td>c++</td>\n",
       "      <td>2015-03-31T02:53:53.050</td>\n",
       "      <td>1</td>\n",
       "      <td>True</td>\n",
       "      <td>2015</td>\n",
       "      <td>3</td>\n",
       "      <td>31</td>\n",
       "    </tr>\n",
       "    <tr>\n",
       "      <th>1</th>\n",
       "      <td>40166</td>\n",
       "      <td>5648</td>\n",
       "      <td>java</td>\n",
       "      <td>2015-03-31T02:53:53.050</td>\n",
       "      <td>1</td>\n",
       "      <td>True</td>\n",
       "      <td>2015</td>\n",
       "      <td>3</td>\n",
       "      <td>31</td>\n",
       "    </tr>\n",
       "    <tr>\n",
       "      <th>2</th>\n",
       "      <td>40167</td>\n",
       "      <td>2739</td>\n",
       "      <td>c++</td>\n",
       "      <td>2015-03-31T02:53:53.050</td>\n",
       "      <td>1</td>\n",
       "      <td>True</td>\n",
       "      <td>2015</td>\n",
       "      <td>3</td>\n",
       "      <td>31</td>\n",
       "    </tr>\n",
       "    <tr>\n",
       "      <th>3</th>\n",
       "      <td>40168</td>\n",
       "      <td>10105</td>\n",
       "      <td>c#</td>\n",
       "      <td>2015-03-31T02:53:53.050</td>\n",
       "      <td>1</td>\n",
       "      <td>True</td>\n",
       "      <td>2015</td>\n",
       "      <td>3</td>\n",
       "      <td>31</td>\n",
       "    </tr>\n",
       "    <tr>\n",
       "      <th>4</th>\n",
       "      <td>40169</td>\n",
       "      <td>16095</td>\n",
       "      <td>php</td>\n",
       "      <td>2015-03-31T02:53:53.050</td>\n",
       "      <td>2</td>\n",
       "      <td>True</td>\n",
       "      <td>2015</td>\n",
       "      <td>3</td>\n",
       "      <td>31</td>\n",
       "    </tr>\n",
       "  </tbody>\n",
       "</table>\n",
       "</div>"
      ],
      "text/plain": [
       "      Id  UserId  Name                     Date  Class  TagBased  Year  Month  \\\n",
       "0  40165   10105   c++  2015-03-31T02:53:53.050      1      True  2015      3   \n",
       "1  40166    5648  java  2015-03-31T02:53:53.050      1      True  2015      3   \n",
       "2  40167    2739   c++  2015-03-31T02:53:53.050      1      True  2015      3   \n",
       "3  40168   10105    c#  2015-03-31T02:53:53.050      1      True  2015      3   \n",
       "4  40169   16095   php  2015-03-31T02:53:53.050      2      True  2015      3   \n",
       "\n",
       "   Day  \n",
       "0   31  \n",
       "1   31  \n",
       "2   31  \n",
       "3   31  \n",
       "4   31  "
      ]
     },
     "execution_count": 671,
     "metadata": {},
     "output_type": "execute_result"
    }
   ],
   "source": [
    "df_badges.head()"
   ]
  },
  {
   "cell_type": "markdown",
   "metadata": {},
   "source": [
    "### USERS"
   ]
  },
  {
   "cell_type": "code",
   "execution_count": 98,
   "metadata": {},
   "outputs": [],
   "source": [
    "df_users = pd.read_csv('Users.csv')"
   ]
  },
  {
   "cell_type": "code",
   "execution_count": 205,
   "metadata": {},
   "outputs": [],
   "source": [
    "df_users['Id'] = df_users.Id.replace({-1:1})"
   ]
  },
  {
   "cell_type": "code",
   "execution_count": 214,
   "metadata": {},
   "outputs": [],
   "source": [
    "df_users['CreationDateYear'] = df_users['CreationDate'].apply(str_to_datetime_year)\n",
    "df_users['CreationDateMonth'] = df_users['CreationDate'].apply(str_to_datetime_month)\n",
    "df_users['CreationDateDay'] = df_users['CreationDate'].apply(str_to_datetime_day)"
   ]
  },
  {
   "cell_type": "code",
   "execution_count": 1078,
   "metadata": {},
   "outputs": [
    {
     "data": {
      "text/html": [
       "<div>\n",
       "<style scoped>\n",
       "    .dataframe tbody tr th:only-of-type {\n",
       "        vertical-align: middle;\n",
       "    }\n",
       "\n",
       "    .dataframe tbody tr th {\n",
       "        vertical-align: top;\n",
       "    }\n",
       "\n",
       "    .dataframe thead th {\n",
       "        text-align: right;\n",
       "    }\n",
       "</style>\n",
       "<table border=\"1\" class=\"dataframe\">\n",
       "  <thead>\n",
       "    <tr style=\"text-align: right;\">\n",
       "      <th></th>\n",
       "      <th>Id</th>\n",
       "      <th>Reputation</th>\n",
       "      <th>CreationDate</th>\n",
       "      <th>DisplayName</th>\n",
       "      <th>LastAccessDate</th>\n",
       "      <th>WebsiteUrl</th>\n",
       "      <th>Location</th>\n",
       "      <th>AboutMe</th>\n",
       "      <th>Views</th>\n",
       "      <th>UpVotes</th>\n",
       "      <th>DownVotes</th>\n",
       "      <th>AccountId</th>\n",
       "      <th>CreationDateYear</th>\n",
       "      <th>CreationDateMonth</th>\n",
       "      <th>CreationDateDay</th>\n",
       "    </tr>\n",
       "  </thead>\n",
       "  <tbody>\n",
       "    <tr>\n",
       "      <th>0</th>\n",
       "      <td>1</td>\n",
       "      <td>1</td>\n",
       "      <td>2014-07-30T23:40:52.457</td>\n",
       "      <td>Дух сообщества</td>\n",
       "      <td>2014-07-30T23:40:52.457</td>\n",
       "      <td>NaN</td>\n",
       "      <td>Дата-центр Stack Exchange</td>\n",
       "      <td>&lt;p&gt;Привет, Мир! &lt;/p&gt;\\n\\n&lt;p&gt;Я — выдуманный перс...</td>\n",
       "      <td>0</td>\n",
       "      <td>10499</td>\n",
       "      <td>23244</td>\n",
       "      <td>-1.0</td>\n",
       "      <td>2014</td>\n",
       "      <td>7</td>\n",
       "      <td>30</td>\n",
       "    </tr>\n",
       "  </tbody>\n",
       "</table>\n",
       "</div>"
      ],
      "text/plain": [
       "   Id  Reputation             CreationDate     DisplayName  \\\n",
       "0   1           1  2014-07-30T23:40:52.457  Дух сообщества   \n",
       "\n",
       "            LastAccessDate WebsiteUrl                   Location  \\\n",
       "0  2014-07-30T23:40:52.457        NaN  Дата-центр Stack Exchange   \n",
       "\n",
       "                                             AboutMe  Views  UpVotes  \\\n",
       "0  <p>Привет, Мир! </p>\\n\\n<p>Я — выдуманный перс...      0    10499   \n",
       "\n",
       "   DownVotes  AccountId  CreationDateYear  CreationDateMonth  CreationDateDay  \n",
       "0      23244       -1.0              2014                  7               30  "
      ]
     },
     "execution_count": 1078,
     "metadata": {},
     "output_type": "execute_result"
    }
   ],
   "source": [
    "df_users.head(1)"
   ]
  },
  {
   "cell_type": "code",
   "execution_count": 249,
   "metadata": {},
   "outputs": [
    {
     "data": {
      "image/png": "[encoded data removed]",
      "text/plain": [
       "<Figure size 432x288 with 1 Axes>"
      ]
     },
     "metadata": {
      "needs_background": "light"
     },
     "output_type": "display_data"
    }
   ],
   "source": [
    "df_users.groupby('CreationDateYear').count()[['AccountId']].plot(kind = 'bar' );"
   ]
  },
  {
   "cell_type": "code",
   "execution_count": 754,
   "metadata": {},
   "outputs": [
    {
     "data": {
      "text/plain": [
       "Nice Answer     3338\n",
       "Good Answer      336\n",
       "Great Answer      14\n",
       "Name: Name, dtype: int64"
      ]
     },
     "execution_count": 754,
     "metadata": {},
     "output_type": "execute_result"
    }
   ],
   "source": [
    "df_badges[df_badges.Name.str.contains('Answer')].Name.value_counts()"
   ]
  },
  {
   "cell_type": "code",
   "execution_count": 742,
   "metadata": {},
   "outputs": [
    {
     "data": {
      "text/plain": [
       "Popular Question     30371\n",
       "Notable Question     11539\n",
       "Famous Question       2019\n",
       "Nice Question         1411\n",
       "Good Question          196\n",
       "Favorite Question       34\n",
       "Great Question           6\n",
       "Stellar Question         4\n",
       "Name: Name, dtype: int64"
      ]
     },
     "execution_count": 742,
     "metadata": {},
     "output_type": "execute_result"
    }
   ],
   "source": [
    "df_badges[df_badges.Name.str.contains('Question')].Name.value_counts()"
   ]
  },
  {
   "cell_type": "markdown",
   "metadata": {},
   "source": [
    "### Работаем с Юзерами, которые в Badges имеют Name с \"Question\" & \"Answer\""
   ]
  },
  {
   "cell_type": "code",
   "execution_count": 744,
   "metadata": {},
   "outputs": [],
   "source": [
    "df_quest = df_badges[df_badges.Name.str.contains('Question')]"
   ]
  },
  {
   "cell_type": "code",
   "execution_count": 757,
   "metadata": {},
   "outputs": [],
   "source": [
    "df_answer = df_badges[df_badges.Name.str.contains('Answer')]"
   ]
  },
  {
   "cell_type": "code",
   "execution_count": 826,
   "metadata": {},
   "outputs": [
    {
     "data": {
      "text/html": [
       "<div>\n",
       "<style scoped>\n",
       "    .dataframe tbody tr th:only-of-type {\n",
       "        vertical-align: middle;\n",
       "    }\n",
       "\n",
       "    .dataframe tbody tr th {\n",
       "        vertical-align: top;\n",
       "    }\n",
       "\n",
       "    .dataframe thead th {\n",
       "        text-align: right;\n",
       "    }\n",
       "</style>\n",
       "<table border=\"1\" class=\"dataframe\">\n",
       "  <thead>\n",
       "    <tr style=\"text-align: right;\">\n",
       "      <th></th>\n",
       "      <th>Id</th>\n",
       "      <th>UserId</th>\n",
       "      <th>Name</th>\n",
       "      <th>Date</th>\n",
       "      <th>Class</th>\n",
       "      <th>TagBased</th>\n",
       "      <th>Year</th>\n",
       "      <th>Month</th>\n",
       "      <th>Day</th>\n",
       "    </tr>\n",
       "  </thead>\n",
       "  <tbody>\n",
       "    <tr>\n",
       "      <th>576</th>\n",
       "      <td>40773</td>\n",
       "      <td>6</td>\n",
       "      <td>Nice Question</td>\n",
       "      <td>2015-03-31T05:59:58.673</td>\n",
       "      <td>3</td>\n",
       "      <td>False</td>\n",
       "      <td>2015</td>\n",
       "      <td>3</td>\n",
       "      <td>31</td>\n",
       "    </tr>\n",
       "    <tr>\n",
       "      <th>577</th>\n",
       "      <td>40774</td>\n",
       "      <td>6</td>\n",
       "      <td>Nice Question</td>\n",
       "      <td>2015-03-31T05:59:58.673</td>\n",
       "      <td>3</td>\n",
       "      <td>False</td>\n",
       "      <td>2015</td>\n",
       "      <td>3</td>\n",
       "      <td>31</td>\n",
       "    </tr>\n",
       "    <tr>\n",
       "      <th>578</th>\n",
       "      <td>40775</td>\n",
       "      <td>6</td>\n",
       "      <td>Nice Question</td>\n",
       "      <td>2015-03-31T05:59:58.673</td>\n",
       "      <td>3</td>\n",
       "      <td>False</td>\n",
       "      <td>2015</td>\n",
       "      <td>3</td>\n",
       "      <td>31</td>\n",
       "    </tr>\n",
       "    <tr>\n",
       "      <th>579</th>\n",
       "      <td>40776</td>\n",
       "      <td>6</td>\n",
       "      <td>Nice Question</td>\n",
       "      <td>2015-03-31T05:59:58.673</td>\n",
       "      <td>3</td>\n",
       "      <td>False</td>\n",
       "      <td>2015</td>\n",
       "      <td>3</td>\n",
       "      <td>31</td>\n",
       "    </tr>\n",
       "    <tr>\n",
       "      <th>580</th>\n",
       "      <td>40777</td>\n",
       "      <td>204</td>\n",
       "      <td>Nice Question</td>\n",
       "      <td>2015-03-31T05:59:58.673</td>\n",
       "      <td>3</td>\n",
       "      <td>False</td>\n",
       "      <td>2015</td>\n",
       "      <td>3</td>\n",
       "      <td>31</td>\n",
       "    </tr>\n",
       "  </tbody>\n",
       "</table>\n",
       "</div>"
      ],
      "text/plain": [
       "        Id  UserId           Name                     Date  Class  TagBased  \\\n",
       "576  40773       6  Nice Question  2015-03-31T05:59:58.673      3     False   \n",
       "577  40774       6  Nice Question  2015-03-31T05:59:58.673      3     False   \n",
       "578  40775       6  Nice Question  2015-03-31T05:59:58.673      3     False   \n",
       "579  40776       6  Nice Question  2015-03-31T05:59:58.673      3     False   \n",
       "580  40777     204  Nice Question  2015-03-31T05:59:58.673      3     False   \n",
       "\n",
       "     Year  Month  Day  \n",
       "576  2015      3   31  \n",
       "577  2015      3   31  \n",
       "578  2015      3   31  \n",
       "579  2015      3   31  \n",
       "580  2015      3   31  "
      ]
     },
     "execution_count": 826,
     "metadata": {},
     "output_type": "execute_result"
    }
   ],
   "source": [
    "df_quest.head()"
   ]
  },
  {
   "cell_type": "code",
   "execution_count": 836,
   "metadata": {},
   "outputs": [
    {
     "data": {
      "text/html": [
       "<div>\n",
       "<style scoped>\n",
       "    .dataframe tbody tr th:only-of-type {\n",
       "        vertical-align: middle;\n",
       "    }\n",
       "\n",
       "    .dataframe tbody tr th {\n",
       "        vertical-align: top;\n",
       "    }\n",
       "\n",
       "    .dataframe thead th {\n",
       "        text-align: right;\n",
       "    }\n",
       "</style>\n",
       "<table border=\"1\" class=\"dataframe\">\n",
       "  <thead>\n",
       "    <tr style=\"text-align: right;\">\n",
       "      <th></th>\n",
       "      <th>Id</th>\n",
       "      <th>Reputation</th>\n",
       "      <th>CreationDate</th>\n",
       "      <th>DisplayName</th>\n",
       "      <th>LastAccessDate</th>\n",
       "      <th>WebsiteUrl</th>\n",
       "      <th>Location</th>\n",
       "      <th>AboutMe</th>\n",
       "      <th>Views</th>\n",
       "      <th>UpVotes</th>\n",
       "      <th>DownVotes</th>\n",
       "      <th>AccountId</th>\n",
       "      <th>CreationDateYear</th>\n",
       "      <th>CreationDateMonth</th>\n",
       "      <th>CreationDateDay</th>\n",
       "    </tr>\n",
       "  </thead>\n",
       "  <tbody>\n",
       "    <tr>\n",
       "      <th>1</th>\n",
       "      <td>2</td>\n",
       "      <td>29732</td>\n",
       "      <td>2010-10-10T08:53:27.670</td>\n",
       "      <td>stanislav</td>\n",
       "      <td>2015-07-01T16:28:14.480</td>\n",
       "      <td>NaN</td>\n",
       "      <td>NaN</td>\n",
       "      <td>NaN</td>\n",
       "      <td>1072</td>\n",
       "      <td>648</td>\n",
       "      <td>71</td>\n",
       "      <td>6027046.0</td>\n",
       "      <td>2010</td>\n",
       "      <td>10</td>\n",
       "      <td>10</td>\n",
       "    </tr>\n",
       "  </tbody>\n",
       "</table>\n",
       "</div>"
      ],
      "text/plain": [
       "   Id  Reputation             CreationDate DisplayName  \\\n",
       "1   2       29732  2010-10-10T08:53:27.670   stanislav   \n",
       "\n",
       "            LastAccessDate WebsiteUrl Location AboutMe  Views  UpVotes  \\\n",
       "1  2015-07-01T16:28:14.480        NaN      NaN     NaN   1072      648   \n",
       "\n",
       "   DownVotes  AccountId  CreationDateYear  CreationDateMonth  CreationDateDay  \n",
       "1         71  6027046.0              2010                 10               10  "
      ]
     },
     "execution_count": 836,
     "metadata": {},
     "output_type": "execute_result"
    }
   ],
   "source": [
    "df_users.loc[df_users.isin(df_quest.UserId.to_list()).Id].head(1)"
   ]
  },
  {
   "cell_type": "code",
   "execution_count": 837,
   "metadata": {},
   "outputs": [
    {
     "data": {
      "text/html": [
       "<div>\n",
       "<style scoped>\n",
       "    .dataframe tbody tr th:only-of-type {\n",
       "        vertical-align: middle;\n",
       "    }\n",
       "\n",
       "    .dataframe tbody tr th {\n",
       "        vertical-align: top;\n",
       "    }\n",
       "\n",
       "    .dataframe thead th {\n",
       "        text-align: right;\n",
       "    }\n",
       "</style>\n",
       "<table border=\"1\" class=\"dataframe\">\n",
       "  <thead>\n",
       "    <tr style=\"text-align: right;\">\n",
       "      <th></th>\n",
       "      <th>Id</th>\n",
       "      <th>Reputation</th>\n",
       "      <th>CreationDate</th>\n",
       "      <th>DisplayName</th>\n",
       "      <th>LastAccessDate</th>\n",
       "      <th>WebsiteUrl</th>\n",
       "      <th>Location</th>\n",
       "      <th>AboutMe</th>\n",
       "      <th>Views</th>\n",
       "      <th>UpVotes</th>\n",
       "      <th>DownVotes</th>\n",
       "      <th>AccountId</th>\n",
       "      <th>CreationDateYear</th>\n",
       "      <th>CreationDateMonth</th>\n",
       "      <th>CreationDateDay</th>\n",
       "    </tr>\n",
       "  </thead>\n",
       "  <tbody>\n",
       "    <tr>\n",
       "      <th>1</th>\n",
       "      <td>2</td>\n",
       "      <td>29732</td>\n",
       "      <td>2010-10-10T08:53:27.670</td>\n",
       "      <td>stanislav</td>\n",
       "      <td>2015-07-01T16:28:14.480</td>\n",
       "      <td>NaN</td>\n",
       "      <td>NaN</td>\n",
       "      <td>NaN</td>\n",
       "      <td>1072</td>\n",
       "      <td>648</td>\n",
       "      <td>71</td>\n",
       "      <td>6027046.0</td>\n",
       "      <td>2010</td>\n",
       "      <td>10</td>\n",
       "      <td>10</td>\n",
       "    </tr>\n",
       "  </tbody>\n",
       "</table>\n",
       "</div>"
      ],
      "text/plain": [
       "   Id  Reputation             CreationDate DisplayName  \\\n",
       "1   2       29732  2010-10-10T08:53:27.670   stanislav   \n",
       "\n",
       "            LastAccessDate WebsiteUrl Location AboutMe  Views  UpVotes  \\\n",
       "1  2015-07-01T16:28:14.480        NaN      NaN     NaN   1072      648   \n",
       "\n",
       "   DownVotes  AccountId  CreationDateYear  CreationDateMonth  CreationDateDay  \n",
       "1         71  6027046.0              2010                 10               10  "
      ]
     },
     "execution_count": 837,
     "metadata": {},
     "output_type": "execute_result"
    }
   ],
   "source": [
    "df_users.loc[df_users.isin(df_answer.UserId.to_list()).Id].head(1)"
   ]
  },
  {
   "cell_type": "code",
   "execution_count": 815,
   "metadata": {},
   "outputs": [],
   "source": [
    "a = df_users.loc[df_users.isin(df_quest.UserId.to_list()).Id]"
   ]
  },
  {
   "cell_type": "code",
   "execution_count": 814,
   "metadata": {},
   "outputs": [],
   "source": [
    "c = df_users.loc[df_users.isin(df_answer.UserId.to_list()).Id]"
   ]
  },
  {
   "cell_type": "code",
   "execution_count": 833,
   "metadata": {},
   "outputs": [],
   "source": [
    "df_users_new = a.merge(c,how='outer')"
   ]
  },
  {
   "cell_type": "code",
   "execution_count": null,
   "metadata": {},
   "outputs": [],
   "source": []
  },
  {
   "cell_type": "markdown",
   "metadata": {},
   "source": [
    "### Посмотрим на посты "
   ]
  },
  {
   "cell_type": "code",
   "execution_count": null,
   "metadata": {},
   "outputs": [],
   "source": []
  },
  {
   "cell_type": "code",
   "execution_count": 840,
   "metadata": {},
   "outputs": [
    {
     "data": {
      "text/plain": [
       "2    317033\n",
       "1    279603\n",
       "5      1832\n",
       "4      1832\n",
       "6        36\n",
       "7         5\n",
       "Name: PostTypeId, dtype: int64"
      ]
     },
     "execution_count": 840,
     "metadata": {},
     "output_type": "execute_result"
    }
   ],
   "source": [
    "df_post.PostTypeId.value_counts()"
   ]
  },
  {
   "cell_type": "markdown",
   "metadata": {},
   "source": [
    "#### инетресуют 1,2"
   ]
  },
  {
   "cell_type": "code",
   "execution_count": null,
   "metadata": {},
   "outputs": [],
   "source": [
    "#1 Question\n",
    "#2 Answer"
   ]
  },
  {
   "cell_type": "code",
   "execution_count": 842,
   "metadata": {},
   "outputs": [],
   "source": [
    "df_post_q = df_post[df_post['PostTypeId']==1] # с вопросами"
   ]
  },
  {
   "cell_type": "code",
   "execution_count": 843,
   "metadata": {},
   "outputs": [],
   "source": [
    "df_post_a = df_post[df_post['PostTypeId']==2] # с ответами"
   ]
  },
  {
   "cell_type": "markdown",
   "metadata": {},
   "source": [
    "### Для Id в df_post_a может быть комментарий к ответу"
   ]
  },
  {
   "cell_type": "code",
   "execution_count": 892,
   "metadata": {},
   "outputs": [
    {
     "data": {
      "text/plain": [
       "['<p>Клонировать раздел Vista можно с помощью ntfsclone, а сжать полученный образ можно с помощью lzma или xz.</p>\\n<p>Сохранение раздела /dev/sda1 в файл /media/Данные/backup.xz.</p>\\n<pre><code>sudo ntfsclone -o - -s /dev/sda1 | xz -z -c - &gt; /media/Данные/backup.xz\\n</code></pre>\\n<p>Восстановление раздела /dev/sda1 из файла /media/Данные/backup.xz.</p>\\n<pre><code>sudo xz -d -c /media/Данные/backup.xz | ntfsclone -O /dev/sda1 -r -\\n</code></pre>']"
      ]
     },
     "execution_count": 892,
     "metadata": {},
     "output_type": "execute_result"
    }
   ],
   "source": [
    "df_post_a[df_post_a.Id == 184].Body.to_list()"
   ]
  },
  {
   "cell_type": "code",
   "execution_count": 893,
   "metadata": {},
   "outputs": [
    {
     "data": {
      "text/plain": [
       "['Удобный способ. Но нужно иметь в виду, что сохранение образа небыстрое. У меня для раздела размером 40 Гб, занятого наполовину, сохранение заняло 9 часов, а восстановление - 20 минут.']"
      ]
     },
     "execution_count": 893,
     "metadata": {},
     "output_type": "execute_result"
    }
   ],
   "source": [
    "df_comments[df_comments.PostId ==184].Text.to_list()"
   ]
  },
  {
   "cell_type": "markdown",
   "metadata": {},
   "source": [
    "### у каждого комментария есть рейтинг \"Score\""
   ]
  },
  {
   "cell_type": "code",
   "execution_count": 897,
   "metadata": {},
   "outputs": [
    {
     "data": {
      "text/html": [
       "<div>\n",
       "<style scoped>\n",
       "    .dataframe tbody tr th:only-of-type {\n",
       "        vertical-align: middle;\n",
       "    }\n",
       "\n",
       "    .dataframe tbody tr th {\n",
       "        vertical-align: top;\n",
       "    }\n",
       "\n",
       "    .dataframe thead th {\n",
       "        text-align: right;\n",
       "    }\n",
       "</style>\n",
       "<table border=\"1\" class=\"dataframe\">\n",
       "  <thead>\n",
       "    <tr style=\"text-align: right;\">\n",
       "      <th></th>\n",
       "      <th>Text</th>\n",
       "      <th>Score</th>\n",
       "    </tr>\n",
       "  </thead>\n",
       "  <tbody>\n",
       "    <tr>\n",
       "      <th>0</th>\n",
       "      <td>Удобный способ. Но нужно иметь в виду, что сох...</td>\n",
       "      <td>2</td>\n",
       "    </tr>\n",
       "  </tbody>\n",
       "</table>\n",
       "</div>"
      ],
      "text/plain": [
       "                                                Text  Score\n",
       "0  Удобный способ. Но нужно иметь в виду, что сох...      2"
      ]
     },
     "execution_count": 897,
     "metadata": {},
     "output_type": "execute_result"
    }
   ],
   "source": [
    "df_comments[df_comments.PostId ==184][['Text','Score']]"
   ]
  },
  {
   "cell_type": "markdown",
   "metadata": {},
   "source": [
    "### посмотрим как дела обсоят с вопросами df_post_q, есть ли на них комментарии"
   ]
  },
  {
   "cell_type": "code",
   "execution_count": 915,
   "metadata": {},
   "outputs": [
    {
     "data": {
      "text/html": [
       "<div>\n",
       "<style scoped>\n",
       "    .dataframe tbody tr th:only-of-type {\n",
       "        vertical-align: middle;\n",
       "    }\n",
       "\n",
       "    .dataframe tbody tr th {\n",
       "        vertical-align: top;\n",
       "    }\n",
       "\n",
       "    .dataframe thead th {\n",
       "        text-align: right;\n",
       "    }\n",
       "</style>\n",
       "<table border=\"1\" class=\"dataframe\">\n",
       "  <thead>\n",
       "    <tr style=\"text-align: right;\">\n",
       "      <th></th>\n",
       "      <th>Id</th>\n",
       "      <th>PostId</th>\n",
       "      <th>Score</th>\n",
       "      <th>Text</th>\n",
       "      <th>CreationDate</th>\n",
       "      <th>UserId</th>\n",
       "      <th>CreationDateYear</th>\n",
       "      <th>CreationDateMonth</th>\n",
       "      <th>CreationDateDay</th>\n",
       "    </tr>\n",
       "  </thead>\n",
       "  <tbody>\n",
       "    <tr>\n",
       "      <th>194595</th>\n",
       "      <td>412876</td>\n",
       "      <td>412859</td>\n",
       "      <td>0</td>\n",
       "      <td>Чойта?  \\nХотя... Да, итераций будет девять, н...</td>\n",
       "      <td>2015-03-30T16:21:27.157</td>\n",
       "      <td>NaN</td>\n",
       "      <td>2015</td>\n",
       "      <td>3</td>\n",
       "      <td>30</td>\n",
       "    </tr>\n",
       "    <tr>\n",
       "      <th>194596</th>\n",
       "      <td>412877</td>\n",
       "      <td>412876</td>\n",
       "      <td>0</td>\n",
       "      <td>Вы уверены, что не меняете коллекцию внутри ци...</td>\n",
       "      <td>2015-03-31T06:34:34.363</td>\n",
       "      <td>106.0</td>\n",
       "      <td>2015</td>\n",
       "      <td>3</td>\n",
       "      <td>31</td>\n",
       "    </tr>\n",
       "    <tr>\n",
       "      <th>194605</th>\n",
       "      <td>412888</td>\n",
       "      <td>412764</td>\n",
       "      <td>0</td>\n",
       "      <td>@avp , не могли бы ли Вы преобразовать свой ко...</td>\n",
       "      <td>2015-03-31T09:08:21.990</td>\n",
       "      <td>22241.0</td>\n",
       "      <td>2015</td>\n",
       "      <td>3</td>\n",
       "      <td>31</td>\n",
       "    </tr>\n",
       "    <tr>\n",
       "      <th>194607</th>\n",
       "      <td>412899</td>\n",
       "      <td>412885</td>\n",
       "      <td>1</td>\n",
       "      <td>Мне не нравится костыль для получения индекса,...</td>\n",
       "      <td>2015-03-31T09:57:05.237</td>\n",
       "      <td>176051.0</td>\n",
       "      <td>2015</td>\n",
       "      <td>3</td>\n",
       "      <td>31</td>\n",
       "    </tr>\n",
       "    <tr>\n",
       "      <th>194616</th>\n",
       "      <td>412913</td>\n",
       "      <td>412903</td>\n",
       "      <td>0</td>\n",
       "      <td>Да, всегда первый</td>\n",
       "      <td>2015-03-31T10:22:20.057</td>\n",
       "      <td>20684.0</td>\n",
       "      <td>2015</td>\n",
       "      <td>3</td>\n",
       "      <td>31</td>\n",
       "    </tr>\n",
       "  </tbody>\n",
       "</table>\n",
       "</div>"
      ],
      "text/plain": [
       "            Id  PostId  Score  \\\n",
       "194595  412876  412859      0   \n",
       "194596  412877  412876      0   \n",
       "194605  412888  412764      0   \n",
       "194607  412899  412885      1   \n",
       "194616  412913  412903      0   \n",
       "\n",
       "                                                     Text  \\\n",
       "194595  Чойта?  \\nХотя... Да, итераций будет девять, н...   \n",
       "194596  Вы уверены, что не меняете коллекцию внутри ци...   \n",
       "194605  @avp , не могли бы ли Вы преобразовать свой ко...   \n",
       "194607  Мне не нравится костыль для получения индекса,...   \n",
       "194616                                  Да, всегда первый   \n",
       "\n",
       "                   CreationDate    UserId  CreationDateYear  \\\n",
       "194595  2015-03-30T16:21:27.157       NaN              2015   \n",
       "194596  2015-03-31T06:34:34.363     106.0              2015   \n",
       "194605  2015-03-31T09:08:21.990   22241.0              2015   \n",
       "194607  2015-03-31T09:57:05.237  176051.0              2015   \n",
       "194616  2015-03-31T10:22:20.057   20684.0              2015   \n",
       "\n",
       "        CreationDateMonth  CreationDateDay  \n",
       "194595                  3               30  \n",
       "194596                  3               31  \n",
       "194605                  3               31  \n",
       "194607                  3               31  \n",
       "194616                  3               31  "
      ]
     },
     "execution_count": 915,
     "metadata": {},
     "output_type": "execute_result"
    }
   ],
   "source": [
    "df_comments.loc[df_comments.isin(df_post_q.Id.to_list()).Id].head()"
   ]
  },
  {
   "cell_type": "code",
   "execution_count": 920,
   "metadata": {},
   "outputs": [
    {
     "data": {
      "text/plain": [
       "['<p>Есть конструкция вида:</p>\\n\\n<pre><code>while(!found)\\n{\\n foreach(Tile tile in incoming_tiles)\\n {\\n  //обработка входящего List\\n }\\n incoming_tiles=outcoming_tiles;\\n}\\n</code></pre>\\n\\n<p>Формирование outcoming_tiles происходит внутри foreach, изменение переменной found происходит там же</p>\\n\\n<p>При попытке прогнать код, на второй иттерации выдает ошибку \"коллекция была изменена\". Знаю, что подобное возникает когда коллекцию пытаешься изменить внутри foreach, но не могу понять, почему нельзя её менять вне foreach и снова подавать на вход в цикле.</p>\\n\\n<p>Хотелось бы узнать, в чем дело и как это можно обойти, заранее спасибо.</p>\\n\\n<p>UP: Полный код цикла </p>\\n\\n<pre><code>        while (!found)\\n        {\\n                foreach (Position tile in incoming)\\n                {\\n                    if (tile.X &lt; map.GetLength(0) &amp;&amp;\\n                        tile.X &gt; 0 &amp;&amp;\\n                        tile.Y &lt; map.GetLength(1) &amp;&amp;\\n                        tile.Y &gt; 0)\\n                    {\\n                        for (int i = tile.X - 1; i &lt;= tile.X + 1; i++)\\n                        {\\n                            if (i == tile.X)\\n                            {\\n                                for (int j = tile.Y - 1; j &lt;= tile.Y + 1; j += 2)\\n                                {\\n                                    if (map[i, j] == 0)\\n                                    {\\n                                        waved[i, j] = wave;\\n                                        outcoming.Add(new Position(i, j));\\n                                        if (i == end.X &amp;&amp; j == end.Y)\\n                                        {\\n                                            found = true;\\n                                            break;\\n                                        }\\n                                    }\\n                                }\\n                            }\\n                            if (map[i, tile.Y] == 0)\\n                            {\\n                                waved[i, tile.Y] = wave;\\n                                outcoming.Add(new Position(i, tile.Y));\\n                                if (i == end.X &amp;&amp; tile.Y == end.Y)\\n                                {\\n                                    found = true;\\n                                    break;\\n                                }\\n                            }\\n                        }\\n                    }\\n                }\\n            incoming = outcoming;\\n            wave++;\\n        }\\n</code></pre>\\n']"
      ]
     },
     "execution_count": 920,
     "metadata": {},
     "output_type": "execute_result"
    }
   ],
   "source": [
    "df_post_q[df_post_q.Id == 412876].Body.to_list()"
   ]
  },
  {
   "cell_type": "code",
   "execution_count": 1072,
   "metadata": {},
   "outputs": [
    {
     "data": {
      "text/html": [
       "<div>\n",
       "<style scoped>\n",
       "    .dataframe tbody tr th:only-of-type {\n",
       "        vertical-align: middle;\n",
       "    }\n",
       "\n",
       "    .dataframe tbody tr th {\n",
       "        vertical-align: top;\n",
       "    }\n",
       "\n",
       "    .dataframe thead th {\n",
       "        text-align: right;\n",
       "    }\n",
       "</style>\n",
       "<table border=\"1\" class=\"dataframe\">\n",
       "  <thead>\n",
       "    <tr style=\"text-align: right;\">\n",
       "      <th></th>\n",
       "      <th>Text</th>\n",
       "    </tr>\n",
       "  </thead>\n",
       "  <tbody>\n",
       "    <tr>\n",
       "      <th>194596</th>\n",
       "      <td>Вы уверены, что не меняете коллекцию внутри ци...</td>\n",
       "    </tr>\n",
       "    <tr>\n",
       "      <th>194597</th>\n",
       "      <td>Добавил полный код цикла</td>\n",
       "    </tr>\n",
       "  </tbody>\n",
       "</table>\n",
       "</div>"
      ],
      "text/plain": [
       "                                                     Text\n",
       "194596  Вы уверены, что не меняете коллекцию внутри ци...\n",
       "194597                           Добавил полный код цикла"
      ]
     },
     "execution_count": 1072,
     "metadata": {},
     "output_type": "execute_result"
    }
   ],
   "source": [
    "df_comments[df_comments.PostId == 412876][['Text']]"
   ]
  },
  {
   "cell_type": "code",
   "execution_count": 922,
   "metadata": {},
   "outputs": [],
   "source": [
    "# для каждого из типов постов #1 Question и #2 Answer есть комментарии с рейтингом комменатрия\n",
    "# это может нам пригодится"
   ]
  },
  {
   "cell_type": "markdown",
   "metadata": {},
   "source": [
    "###  посмотрим на  Votes "
   ]
  },
  {
   "cell_type": "code",
   "execution_count": 925,
   "metadata": {},
   "outputs": [
    {
     "data": {
      "text/html": [
       "<div>\n",
       "<style scoped>\n",
       "    .dataframe tbody tr th:only-of-type {\n",
       "        vertical-align: middle;\n",
       "    }\n",
       "\n",
       "    .dataframe tbody tr th {\n",
       "        vertical-align: top;\n",
       "    }\n",
       "\n",
       "    .dataframe thead th {\n",
       "        text-align: right;\n",
       "    }\n",
       "</style>\n",
       "<table border=\"1\" class=\"dataframe\">\n",
       "  <thead>\n",
       "    <tr style=\"text-align: right;\">\n",
       "      <th></th>\n",
       "      <th>Id</th>\n",
       "      <th>PostId</th>\n",
       "      <th>VoteTypeId</th>\n",
       "      <th>CreationDate</th>\n",
       "      <th>CreationDateYear</th>\n",
       "      <th>CreationDateMonth</th>\n",
       "      <th>CreationDateDay</th>\n",
       "    </tr>\n",
       "  </thead>\n",
       "  <tbody>\n",
       "    <tr>\n",
       "      <th>0</th>\n",
       "      <td>2243811</td>\n",
       "      <td>2</td>\n",
       "      <td>1</td>\n",
       "      <td>2010-10-10T00:00:00.000</td>\n",
       "      <td>2010</td>\n",
       "      <td>10</td>\n",
       "      <td>10</td>\n",
       "    </tr>\n",
       "    <tr>\n",
       "      <th>1</th>\n",
       "      <td>2243812</td>\n",
       "      <td>4</td>\n",
       "      <td>1</td>\n",
       "      <td>2010-10-10T00:00:00.000</td>\n",
       "      <td>2010</td>\n",
       "      <td>10</td>\n",
       "      <td>10</td>\n",
       "    </tr>\n",
       "    <tr>\n",
       "      <th>2</th>\n",
       "      <td>2243813</td>\n",
       "      <td>6</td>\n",
       "      <td>1</td>\n",
       "      <td>2010-10-10T00:00:00.000</td>\n",
       "      <td>2010</td>\n",
       "      <td>10</td>\n",
       "      <td>10</td>\n",
       "    </tr>\n",
       "    <tr>\n",
       "      <th>3</th>\n",
       "      <td>2243814</td>\n",
       "      <td>8</td>\n",
       "      <td>1</td>\n",
       "      <td>2010-10-11T00:00:00.000</td>\n",
       "      <td>2010</td>\n",
       "      <td>10</td>\n",
       "      <td>11</td>\n",
       "    </tr>\n",
       "    <tr>\n",
       "      <th>4</th>\n",
       "      <td>2243815</td>\n",
       "      <td>10</td>\n",
       "      <td>1</td>\n",
       "      <td>2010-10-11T00:00:00.000</td>\n",
       "      <td>2010</td>\n",
       "      <td>10</td>\n",
       "      <td>11</td>\n",
       "    </tr>\n",
       "  </tbody>\n",
       "</table>\n",
       "</div>"
      ],
      "text/plain": [
       "        Id  PostId  VoteTypeId             CreationDate  CreationDateYear  \\\n",
       "0  2243811       2           1  2010-10-10T00:00:00.000              2010   \n",
       "1  2243812       4           1  2010-10-10T00:00:00.000              2010   \n",
       "2  2243813       6           1  2010-10-10T00:00:00.000              2010   \n",
       "3  2243814       8           1  2010-10-11T00:00:00.000              2010   \n",
       "4  2243815      10           1  2010-10-11T00:00:00.000              2010   \n",
       "\n",
       "   CreationDateMonth  CreationDateDay  \n",
       "0                 10               10  \n",
       "1                 10               10  \n",
       "2                 10               10  \n",
       "3                 10               11  \n",
       "4                 10               11  "
      ]
     },
     "execution_count": 925,
     "metadata": {},
     "output_type": "execute_result"
    }
   ],
   "source": [
    "df_votes.head()"
   ]
  },
  {
   "cell_type": "code",
   "execution_count": null,
   "metadata": {},
   "outputs": [],
   "source": [
    "#Votetypeid 2: UpMod; this is equivalent to an upvote\n",
    "#Votetypeid 3: DownMod; this is equivalent to a downvote"
   ]
  },
  {
   "cell_type": "markdown",
   "metadata": {},
   "source": [
    "#### посмотрим на топ самых \"непопулярных вопросов\""
   ]
  },
  {
   "cell_type": "code",
   "execution_count": 1032,
   "metadata": {},
   "outputs": [],
   "source": [
    "votes_3 = df_votes[df_votes.VoteTypeId ==3][['PostId','VoteTypeId']]"
   ]
  },
  {
   "cell_type": "code",
   "execution_count": 1068,
   "metadata": {},
   "outputs": [],
   "source": [
    "list_of_votes_3 = votes_3.groupby('PostId').count().sort_values(by = 'VoteTypeId',ascending = False)[:20].\\\n",
    "reset_index().PostId.to_list()"
   ]
  },
  {
   "cell_type": "code",
   "execution_count": 1069,
   "metadata": {},
   "outputs": [
    {
     "data": {
      "text/html": [
       "<div>\n",
       "<style scoped>\n",
       "    .dataframe tbody tr th:only-of-type {\n",
       "        vertical-align: middle;\n",
       "    }\n",
       "\n",
       "    .dataframe tbody tr th {\n",
       "        vertical-align: top;\n",
       "    }\n",
       "\n",
       "    .dataframe thead th {\n",
       "        text-align: right;\n",
       "    }\n",
       "</style>\n",
       "<table border=\"1\" class=\"dataframe\">\n",
       "  <thead>\n",
       "    <tr style=\"text-align: right;\">\n",
       "      <th></th>\n",
       "      <th>Body</th>\n",
       "    </tr>\n",
       "  </thead>\n",
       "  <tbody>\n",
       "    <tr>\n",
       "      <th>36195</th>\n",
       "      <td>&lt;pre&gt;&lt;code&gt;    &amp;lt;?php\\nClass A {\\n        pr...</td>\n",
       "    </tr>\n",
       "    <tr>\n",
       "      <th>38089</th>\n",
       "      <td>&lt;p&gt;Я в качестве хобби люблю взлом сайтов.&lt;br&gt;\\...</td>\n",
       "    </tr>\n",
       "    <tr>\n",
       "      <th>56436</th>\n",
       "      <td>&lt;p&gt;Как можно усовершенствовать random, чтобы о...</td>\n",
       "    </tr>\n",
       "    <tr>\n",
       "      <th>204734</th>\n",
       "      <td>&lt;p&gt;Дано &lt;em&gt;n&lt;/em&gt;, вычислить:&lt;/p&gt;\\n\\n&lt;p&gt;&lt;a hr...</td>\n",
       "    </tr>\n",
       "    <tr>\n",
       "      <th>205783</th>\n",
       "      <td>&lt;p&gt;Для данного списка различных чисел от 1 до ...</td>\n",
       "    </tr>\n",
       "    <tr>\n",
       "      <th>273362</th>\n",
       "      <td>&lt;p&gt;На каком уровне и что нужно уметь на С++, ч...</td>\n",
       "    </tr>\n",
       "    <tr>\n",
       "      <th>285715</th>\n",
       "      <td>&lt;p&gt;Вот задание по JavaScript, которое я пытаюс...</td>\n",
       "    </tr>\n",
       "    <tr>\n",
       "      <th>454356</th>\n",
       "      <td>&lt;p&gt;Народ, помогите решить уравнение &lt;/p&gt;\\n\\n&lt;p...</td>\n",
       "    </tr>\n",
       "  </tbody>\n",
       "</table>\n",
       "</div>"
      ],
      "text/plain": [
       "                                                     Body\n",
       "36195   <pre><code>    &lt;?php\\nClass A {\\n        pr...\n",
       "38089   <p>Я в качестве хобби люблю взлом сайтов.<br>\\...\n",
       "56436   <p>Как можно усовершенствовать random, чтобы о...\n",
       "204734  <p>Дано <em>n</em>, вычислить:</p>\\n\\n<p><a hr...\n",
       "205783  <p>Для данного списка различных чисел от 1 до ...\n",
       "273362  <p>На каком уровне и что нужно уметь на С++, ч...\n",
       "285715  <p>Вот задание по JavaScript, которое я пытаюс...\n",
       "454356  <p>Народ, помогите решить уравнение </p>\\n\\n<p..."
      ]
     },
     "execution_count": 1069,
     "metadata": {},
     "output_type": "execute_result"
    }
   ],
   "source": [
    "top_worst = df_post_q.loc[df_post_q.Id.isin(list_of_votes_3)][['Body']]\n",
    "top_worst"
   ]
  },
  {
   "cell_type": "code",
   "execution_count": 1070,
   "metadata": {},
   "outputs": [
    {
     "data": {
      "text/plain": [
       "\"<pre><code>    &lt;?php\\nClass A {\\n        protected $a = 'Если ты меня видишь, я - баг :)';\\n}\\n\\nClass B extends A {\\n        public function getA () {\\n                $a = new A();\\n                echo $a-&gt;a;\\n        }\\n}\\n\\n$b = new B();\\necho $b-&gt;getA();\\n?&gt;\\n</code></pre>\\n<p>Как-то так :) Будьте осторожны, товарищи :)</p>\""
      ]
     },
     "execution_count": 1070,
     "metadata": {},
     "output_type": "execute_result"
    }
   ],
   "source": [
    "#пример\n",
    "top_worst.Body.to_list()[0]"
   ]
  },
  {
   "cell_type": "code",
   "execution_count": 105,
   "metadata": {},
   "outputs": [],
   "source": [
    "df_votes = pd.read_csv('Votes.csv')"
   ]
  },
  {
   "cell_type": "code",
   "execution_count": 251,
   "metadata": {},
   "outputs": [],
   "source": [
    "df_votes['CreationDateYear'] = df_votes['CreationDate'].apply(str_to_datetime_year)\n",
    "df_votes['CreationDateMonth'] = df_votes['CreationDate'].apply(str_to_datetime_month)\n",
    "df_votes['CreationDateDay'] = df_votes['CreationDate'].apply(str_to_datetime_day)"
   ]
  },
  {
   "cell_type": "code",
   "execution_count": null,
   "metadata": {},
   "outputs": [],
   "source": [
    "#Votetypeid 2: UpMod; this is equivalent to an upvote\n",
    "#Votetypeid 3: DownMod; this is equivalent to a downvote"
   ]
  },
  {
   "cell_type": "code",
   "execution_count": 648,
   "metadata": {},
   "outputs": [
    {
     "data": {
      "text/plain": [
       "<matplotlib.axes._subplots.AxesSubplot at 0x1d0fa29e80>"
      ]
     },
     "execution_count": 648,
     "metadata": {},
     "output_type": "execute_result"
    },
    {
     "data": {
      "image/png": "[encoded data removed]",
      "text/plain": [
       "<Figure size 432x288 with 1 Axes>"
      ]
     },
     "metadata": {
      "needs_background": "light"
     },
     "output_type": "display_data"
    }
   ],
   "source": [
    "df_votes.VoteTypeId.value_counts().plot(kind = 'bar',x = 'VoteTypeId',rot = True)"
   ]
  },
  {
   "cell_type": "code",
   "execution_count": 278,
   "metadata": {},
   "outputs": [],
   "source": [
    "import seaborn as sns"
   ]
  },
  {
   "cell_type": "code",
   "execution_count": 348,
   "metadata": {},
   "outputs": [
    {
     "data": {
      "text/plain": [
       "2     817430\n",
       "3     181740\n",
       "1     136951\n",
       "10     79821\n",
       "5      48603\n",
       "16     42674\n",
       "15     25282\n",
       "11      3996\n",
       "6       3577\n",
       "8       2046\n",
       "9       2035\n",
       "12       596\n",
       "4        127\n",
       "Name: VoteTypeId, dtype: int64"
      ]
     },
     "execution_count": 348,
     "metadata": {},
     "output_type": "execute_result"
    }
   ],
   "source": [
    "df_votes.VoteTypeId.value_counts(dropna = False)"
   ]
  },
  {
   "cell_type": "code",
   "execution_count": 395,
   "metadata": {},
   "outputs": [],
   "source": [
    "Vote_type_percent = df_votes.VoteTypeId.value_counts(dropna = False)/ \\\n",
    "df_votes.VoteTypeId.value_counts().values.sum() *100"
   ]
  },
  {
   "cell_type": "code",
   "execution_count": 398,
   "metadata": {},
   "outputs": [
    {
     "data": {
      "text/plain": [
       "<matplotlib.axes._subplots.AxesSubplot at 0x1c5fb7d710>"
      ]
     },
     "execution_count": 398,
     "metadata": {},
     "output_type": "execute_result"
    },
    {
     "data": {
      "image/png": "[encoded data removed]",
      "text/plain": [
       "<Figure size 432x288 with 1 Axes>"
      ]
     },
     "metadata": {
      "needs_background": "light"
     },
     "output_type": "display_data"
    }
   ],
   "source": [
    "Vote_type_percent.plot(kind = 'bar',x = 'VoteTypeId',rot = True)"
   ]
  },
  {
   "cell_type": "code",
   "execution_count": 329,
   "metadata": {},
   "outputs": [],
   "source": [
    "df_test = df_votes.groupby(['CreationDateYear','VoteTypeId']).count()"
   ]
  },
  {
   "cell_type": "code",
   "execution_count": 331,
   "metadata": {},
   "outputs": [],
   "source": [
    "df_test.rename(columns={'Id':'Count'},inplace=True)"
   ]
  },
  {
   "cell_type": "code",
   "execution_count": 349,
   "metadata": {},
   "outputs": [],
   "source": [
    "df_voted_type = df_test.iloc[:,[0]].unstack()"
   ]
  },
  {
   "cell_type": "code",
   "execution_count": 353,
   "metadata": {},
   "outputs": [],
   "source": [
    "df_voted_type.fillna(0,inplace=True)"
   ]
  },
  {
   "cell_type": "code",
   "execution_count": 361,
   "metadata": {},
   "outputs": [
    {
     "data": {
      "text/html": [
       "<div>\n",
       "<style scoped>\n",
       "    .dataframe tbody tr th:only-of-type {\n",
       "        vertical-align: middle;\n",
       "    }\n",
       "\n",
       "    .dataframe tbody tr th {\n",
       "        vertical-align: top;\n",
       "    }\n",
       "\n",
       "    .dataframe thead tr th {\n",
       "        text-align: left;\n",
       "    }\n",
       "\n",
       "    .dataframe thead tr:last-of-type th {\n",
       "        text-align: right;\n",
       "    }\n",
       "</style>\n",
       "<table border=\"1\" class=\"dataframe\">\n",
       "  <thead>\n",
       "    <tr>\n",
       "      <th></th>\n",
       "      <th colspan=\"13\" halign=\"left\">Count</th>\n",
       "    </tr>\n",
       "    <tr>\n",
       "      <th>VoteTypeId</th>\n",
       "      <th>1</th>\n",
       "      <th>2</th>\n",
       "      <th>3</th>\n",
       "      <th>4</th>\n",
       "      <th>5</th>\n",
       "      <th>6</th>\n",
       "      <th>8</th>\n",
       "      <th>9</th>\n",
       "      <th>10</th>\n",
       "      <th>11</th>\n",
       "      <th>12</th>\n",
       "      <th>15</th>\n",
       "      <th>16</th>\n",
       "    </tr>\n",
       "    <tr>\n",
       "      <th>CreationDateYear</th>\n",
       "      <th></th>\n",
       "      <th></th>\n",
       "      <th></th>\n",
       "      <th></th>\n",
       "      <th></th>\n",
       "      <th></th>\n",
       "      <th></th>\n",
       "      <th></th>\n",
       "      <th></th>\n",
       "      <th></th>\n",
       "      <th></th>\n",
       "      <th></th>\n",
       "      <th></th>\n",
       "    </tr>\n",
       "  </thead>\n",
       "  <tbody>\n",
       "    <tr>\n",
       "      <th>2010</th>\n",
       "      <td>226.0</td>\n",
       "      <td>433.0</td>\n",
       "      <td>23.0</td>\n",
       "      <td>0.0</td>\n",
       "      <td>5.0</td>\n",
       "      <td>0.0</td>\n",
       "      <td>0.0</td>\n",
       "      <td>0.0</td>\n",
       "      <td>22.0</td>\n",
       "      <td>0.0</td>\n",
       "      <td>0.0</td>\n",
       "      <td>0.0</td>\n",
       "      <td>0.0</td>\n",
       "    </tr>\n",
       "    <tr>\n",
       "      <th>2011</th>\n",
       "      <td>4507.0</td>\n",
       "      <td>22841.0</td>\n",
       "      <td>2107.0</td>\n",
       "      <td>0.0</td>\n",
       "      <td>1055.0</td>\n",
       "      <td>580.0</td>\n",
       "      <td>0.0</td>\n",
       "      <td>0.0</td>\n",
       "      <td>2096.0</td>\n",
       "      <td>0.0</td>\n",
       "      <td>0.0</td>\n",
       "      <td>0.0</td>\n",
       "      <td>0.0</td>\n",
       "    </tr>\n",
       "    <tr>\n",
       "      <th>2012</th>\n",
       "      <td>8201.0</td>\n",
       "      <td>43961.0</td>\n",
       "      <td>5765.0</td>\n",
       "      <td>0.0</td>\n",
       "      <td>2012.0</td>\n",
       "      <td>591.0</td>\n",
       "      <td>0.0</td>\n",
       "      <td>0.0</td>\n",
       "      <td>3208.0</td>\n",
       "      <td>0.0</td>\n",
       "      <td>0.0</td>\n",
       "      <td>0.0</td>\n",
       "      <td>0.0</td>\n",
       "    </tr>\n",
       "    <tr>\n",
       "      <th>2013</th>\n",
       "      <td>7657.0</td>\n",
       "      <td>38173.0</td>\n",
       "      <td>4997.0</td>\n",
       "      <td>0.0</td>\n",
       "      <td>1951.0</td>\n",
       "      <td>915.0</td>\n",
       "      <td>0.0</td>\n",
       "      <td>0.0</td>\n",
       "      <td>3020.0</td>\n",
       "      <td>0.0</td>\n",
       "      <td>0.0</td>\n",
       "      <td>0.0</td>\n",
       "      <td>0.0</td>\n",
       "    </tr>\n",
       "    <tr>\n",
       "      <th>2014</th>\n",
       "      <td>6625.0</td>\n",
       "      <td>25543.0</td>\n",
       "      <td>2336.0</td>\n",
       "      <td>0.0</td>\n",
       "      <td>1132.0</td>\n",
       "      <td>1123.0</td>\n",
       "      <td>0.0</td>\n",
       "      <td>0.0</td>\n",
       "      <td>3435.0</td>\n",
       "      <td>0.0</td>\n",
       "      <td>0.0</td>\n",
       "      <td>0.0</td>\n",
       "      <td>0.0</td>\n",
       "    </tr>\n",
       "    <tr>\n",
       "      <th>2015</th>\n",
       "      <td>13528.0</td>\n",
       "      <td>85469.0</td>\n",
       "      <td>22897.0</td>\n",
       "      <td>17.0</td>\n",
       "      <td>3496.0</td>\n",
       "      <td>368.0</td>\n",
       "      <td>143.0</td>\n",
       "      <td>138.0</td>\n",
       "      <td>13902.0</td>\n",
       "      <td>417.0</td>\n",
       "      <td>68.0</td>\n",
       "      <td>4112.0</td>\n",
       "      <td>6121.0</td>\n",
       "    </tr>\n",
       "    <tr>\n",
       "      <th>2016</th>\n",
       "      <td>24508.0</td>\n",
       "      <td>183558.0</td>\n",
       "      <td>38846.0</td>\n",
       "      <td>34.0</td>\n",
       "      <td>9688.0</td>\n",
       "      <td>0.0</td>\n",
       "      <td>488.0</td>\n",
       "      <td>478.0</td>\n",
       "      <td>11796.0</td>\n",
       "      <td>796.0</td>\n",
       "      <td>171.0</td>\n",
       "      <td>5311.0</td>\n",
       "      <td>11110.0</td>\n",
       "    </tr>\n",
       "    <tr>\n",
       "      <th>2017</th>\n",
       "      <td>27592.0</td>\n",
       "      <td>180233.0</td>\n",
       "      <td>42490.0</td>\n",
       "      <td>36.0</td>\n",
       "      <td>11809.0</td>\n",
       "      <td>0.0</td>\n",
       "      <td>623.0</td>\n",
       "      <td>623.0</td>\n",
       "      <td>16361.0</td>\n",
       "      <td>1046.0</td>\n",
       "      <td>163.0</td>\n",
       "      <td>5077.0</td>\n",
       "      <td>11903.0</td>\n",
       "    </tr>\n",
       "    <tr>\n",
       "      <th>2018</th>\n",
       "      <td>28326.0</td>\n",
       "      <td>160333.0</td>\n",
       "      <td>38781.0</td>\n",
       "      <td>12.0</td>\n",
       "      <td>11275.0</td>\n",
       "      <td>0.0</td>\n",
       "      <td>520.0</td>\n",
       "      <td>526.0</td>\n",
       "      <td>15609.0</td>\n",
       "      <td>1046.0</td>\n",
       "      <td>128.0</td>\n",
       "      <td>7082.0</td>\n",
       "      <td>9577.0</td>\n",
       "    </tr>\n",
       "    <tr>\n",
       "      <th>2019</th>\n",
       "      <td>15781.0</td>\n",
       "      <td>76886.0</td>\n",
       "      <td>23498.0</td>\n",
       "      <td>28.0</td>\n",
       "      <td>6180.0</td>\n",
       "      <td>0.0</td>\n",
       "      <td>272.0</td>\n",
       "      <td>270.0</td>\n",
       "      <td>10372.0</td>\n",
       "      <td>691.0</td>\n",
       "      <td>66.0</td>\n",
       "      <td>3700.0</td>\n",
       "      <td>3963.0</td>\n",
       "    </tr>\n",
       "  </tbody>\n",
       "</table>\n",
       "</div>"
      ],
      "text/plain": [
       "                    Count                                                   \\\n",
       "VoteTypeId             1         2        3     4        5       6      8    \n",
       "CreationDateYear                                                             \n",
       "2010                226.0     433.0     23.0   0.0      5.0     0.0    0.0   \n",
       "2011               4507.0   22841.0   2107.0   0.0   1055.0   580.0    0.0   \n",
       "2012               8201.0   43961.0   5765.0   0.0   2012.0   591.0    0.0   \n",
       "2013               7657.0   38173.0   4997.0   0.0   1951.0   915.0    0.0   \n",
       "2014               6625.0   25543.0   2336.0   0.0   1132.0  1123.0    0.0   \n",
       "2015              13528.0   85469.0  22897.0  17.0   3496.0   368.0  143.0   \n",
       "2016              24508.0  183558.0  38846.0  34.0   9688.0     0.0  488.0   \n",
       "2017              27592.0  180233.0  42490.0  36.0  11809.0     0.0  623.0   \n",
       "2018              28326.0  160333.0  38781.0  12.0  11275.0     0.0  520.0   \n",
       "2019              15781.0   76886.0  23498.0  28.0   6180.0     0.0  272.0   \n",
       "\n",
       "                                                                  \n",
       "VoteTypeId           9        10      11     12      15       16  \n",
       "CreationDateYear                                                  \n",
       "2010                0.0     22.0     0.0    0.0     0.0      0.0  \n",
       "2011                0.0   2096.0     0.0    0.0     0.0      0.0  \n",
       "2012                0.0   3208.0     0.0    0.0     0.0      0.0  \n",
       "2013                0.0   3020.0     0.0    0.0     0.0      0.0  \n",
       "2014                0.0   3435.0     0.0    0.0     0.0      0.0  \n",
       "2015              138.0  13902.0   417.0   68.0  4112.0   6121.0  \n",
       "2016              478.0  11796.0   796.0  171.0  5311.0  11110.0  \n",
       "2017              623.0  16361.0  1046.0  163.0  5077.0  11903.0  \n",
       "2018              526.0  15609.0  1046.0  128.0  7082.0   9577.0  \n",
       "2019              270.0  10372.0   691.0   66.0  3700.0   3963.0  "
      ]
     },
     "execution_count": 361,
     "metadata": {},
     "output_type": "execute_result"
    }
   ],
   "source": [
    "df_voted_type"
   ]
  },
  {
   "cell_type": "code",
   "execution_count": 381,
   "metadata": {},
   "outputs": [
    {
     "data": {
      "text/plain": [
       "['VotedTypeId 1',\n",
       " 'VotedTypeId 2',\n",
       " 'VotedTypeId 3',\n",
       " 'VotedTypeId 4',\n",
       " 'VotedTypeId 5',\n",
       " 'VotedTypeId 6',\n",
       " 'VotedTypeId 8',\n",
       " 'VotedTypeId 9',\n",
       " 'VotedTypeId 10',\n",
       " 'VotedTypeId 11',\n",
       " 'VotedTypeId 12',\n",
       " 'VotedTypeId 15',\n",
       " 'VotedTypeId 16']"
      ]
     },
     "execution_count": 381,
     "metadata": {},
     "output_type": "execute_result"
    }
   ],
   "source": [
    "['VotedTypeId'+' ' + str(i) for i in [1,2,3,4,5,6,8,9,10,11,12,15,16] ]"
   ]
  },
  {
   "cell_type": "code",
   "execution_count": 382,
   "metadata": {},
   "outputs": [
    {
     "data": {
      "text/plain": [
       "<matplotlib.legend.Legend at 0x1c5f472390>"
      ]
     },
     "execution_count": 382,
     "metadata": {},
     "output_type": "execute_result"
    },
    {
     "data": {
      "image/png": "[encoded data removed]",
      "text/plain": [
       "<Figure size 1296x648 with 1 Axes>"
      ]
     },
     "metadata": {
      "needs_background": "light"
     },
     "output_type": "display_data"
    }
   ],
   "source": [
    "ax = df_voted_type.plot(kind = 'bar',figsize=(18,9),rot=True)\n",
    "ax.legend(['VotedTypeId'+' ' + str(i) for i in [1,2,3,4,5,6,8,9,10,11,12,15,16] ])"
   ]
  },
  {
   "cell_type": "code",
   "execution_count": 464,
   "metadata": {},
   "outputs": [
    {
     "data": {
      "text/plain": [
       "<matplotlib.legend.Legend at 0x1c63da6a90>"
      ]
     },
     "execution_count": 464,
     "metadata": {},
     "output_type": "execute_result"
    },
    {
     "data": {
      "image/png": "[encoded data removed]",
      "text/plain": [
       "<Figure size 1296x648 with 1 Axes>"
      ]
     },
     "metadata": {
      "needs_background": "light"
     },
     "output_type": "display_data"
    }
   ],
   "source": [
    "# уберем VotedTypeId2 для интереса\n",
    "ax = test1.drop(columns=test1.columns[1],axis=1).plot(kind = 'bar',figsize=(18,9),rot=True)\n",
    "ax.legend(['VotedTypeId'+' ' + str(i) for i in [1,3,4,5,6,8,9,10,11,12,15,16] ])"
   ]
  },
  {
   "cell_type": "markdown",
   "metadata": {},
   "source": [
    "### COMMENTS"
   ]
  },
  {
   "cell_type": "code",
   "execution_count": 510,
   "metadata": {},
   "outputs": [],
   "source": [
    "df_comments = pd.read_csv('Comments.csv')"
   ]
  },
  {
   "cell_type": "code",
   "execution_count": 512,
   "metadata": {},
   "outputs": [],
   "source": [
    "#df_comments.drop('Unnamed: 0',axis = 1, inplace=True)"
   ]
  },
  {
   "cell_type": "code",
   "execution_count": 517,
   "metadata": {},
   "outputs": [
    {
     "data": {
      "text/plain": [
       "<matplotlib.axes._subplots.AxesSubplot at 0x3502a4518>"
      ]
     },
     "execution_count": 517,
     "metadata": {},
     "output_type": "execute_result"
    },
    {
     "data": {
      "image/png": "[encoded data removed]",
      "text/plain": [
       "<Figure size 432x288 with 1 Axes>"
      ]
     },
     "metadata": {
      "needs_background": "light"
     },
     "output_type": "display_data"
    }
   ],
   "source": [
    "df_comments.Score.value_counts().plot(kind = 'bar')"
   ]
  },
  {
   "cell_type": "code",
   "execution_count": 525,
   "metadata": {},
   "outputs": [],
   "source": [
    "ScorePercent = df_comments.Score.value_counts(dropna = False)/ \\\n",
    "df_comments.Score.value_counts().values.sum() *100"
   ]
  },
  {
   "cell_type": "code",
   "execution_count": 528,
   "metadata": {},
   "outputs": [
    {
     "data": {
      "text/plain": [
       "<matplotlib.axes._subplots.AxesSubplot at 0x1cccd8c3c8>"
      ]
     },
     "execution_count": 528,
     "metadata": {},
     "output_type": "execute_result"
    },
    {
     "data": {
      "image/png": "[encoded data removed]",
      "text/plain": [
       "<Figure size 1152x576 with 1 Axes>"
      ]
     },
     "metadata": {
      "needs_background": "light"
     },
     "output_type": "display_data"
    }
   ],
   "source": [
    "ScorePercent.plot(kind ='bar',figsize=(16,8),rot= True)"
   ]
  },
  {
   "cell_type": "code",
   "execution_count": 530,
   "metadata": {},
   "outputs": [],
   "source": [
    "df_comments['CreationDateYear'] = df_comments['CreationDate'].apply(str_to_datetime_year)\n",
    "df_comments['CreationDateMonth'] = df_comments['CreationDate'].apply(str_to_datetime_month)\n",
    "df_comments['CreationDateDay'] = df_comments['CreationDate'].apply(str_to_datetime_day)"
   ]
  },
  {
   "cell_type": "code",
   "execution_count": 550,
   "metadata": {},
   "outputs": [
    {
     "data": {
      "text/plain": [
       "<matplotlib.legend.Legend at 0x1c824d4978>"
      ]
     },
     "execution_count": 550,
     "metadata": {},
     "output_type": "execute_result"
    },
    {
     "data": {
      "image/png": "[encoded data removed]",
      "text/plain": [
       "<Figure size 432x288 with 1 Axes>"
      ]
     },
     "metadata": {
      "needs_background": "light"
     },
     "output_type": "display_data"
    }
   ],
   "source": [
    "ax = df_comments.groupby('CreationDateYear')[['Id']].count().plot(kind = 'bar')\n",
    "ax.legend(['$Nubmer$ $of$ $Comments$'])"
   ]
  },
  {
   "cell_type": "code",
   "execution_count": 587,
   "metadata": {},
   "outputs": [
    {
     "data": {
      "text/plain": [
       "<matplotlib.axes._subplots.AxesSubplot at 0x1ccfc10c18>"
      ]
     },
     "execution_count": 587,
     "metadata": {},
     "output_type": "execute_result"
    },
    {
     "data": {
      "image/png": "[encoded data removed]",
      "text/plain": [
       "<Figure size 432x288 with 1 Axes>"
      ]
     },
     "metadata": {
      "needs_background": "light"
     },
     "output_type": "display_data"
    }
   ],
   "source": [
    "df_comments[df_comments.loc[:,'Score'] <0]['Score'].value_counts().plot(kind = 'bar',rot = True)"
   ]
  },
  {
   "cell_type": "code",
   "execution_count": 592,
   "metadata": {},
   "outputs": [
    {
     "data": {
      "text/plain": [
       "<matplotlib.axes._subplots.AxesSubplot at 0x1cc89bf940>"
      ]
     },
     "execution_count": 592,
     "metadata": {},
     "output_type": "execute_result"
    },
    {
     "data": {
      "image/png": "[encoded data removed]",
      "text/plain": [
       "<Figure size 1296x432 with 1 Axes>"
      ]
     },
     "metadata": {
      "needs_background": "light"
     },
     "output_type": "display_data"
    }
   ],
   "source": [
    "df_comments[df_comments.loc[:,'Score'] >0]['Score'].value_counts().plot(kind = 'bar',rot = True,figsize = (18,6))"
   ]
  },
  {
   "cell_type": "markdown",
   "metadata": {},
   "source": [
    "### PostLinks"
   ]
  },
  {
   "cell_type": "code",
   "execution_count": 593,
   "metadata": {},
   "outputs": [],
   "source": [
    "df_postLinks = pd.read_csv('PostLinks.csv')"
   ]
  },
  {
   "cell_type": "code",
   "execution_count": 595,
   "metadata": {},
   "outputs": [],
   "source": [
    "#df_postLinks.drop('Unnamed: 0',axis =1,inplace=True)"
   ]
  },
  {
   "cell_type": "code",
   "execution_count": 632,
   "metadata": {},
   "outputs": [
    {
     "data": {
      "text/html": [
       "<div>\n",
       "<style scoped>\n",
       "    .dataframe tbody tr th:only-of-type {\n",
       "        vertical-align: middle;\n",
       "    }\n",
       "\n",
       "    .dataframe tbody tr th {\n",
       "        vertical-align: top;\n",
       "    }\n",
       "\n",
       "    .dataframe thead th {\n",
       "        text-align: right;\n",
       "    }\n",
       "</style>\n",
       "<table border=\"1\" class=\"dataframe\">\n",
       "  <thead>\n",
       "    <tr style=\"text-align: right;\">\n",
       "      <th></th>\n",
       "      <th>Id</th>\n",
       "      <th>CreationDate</th>\n",
       "      <th>PostId</th>\n",
       "      <th>RelatedPostId</th>\n",
       "      <th>LinkTypeId</th>\n",
       "    </tr>\n",
       "  </thead>\n",
       "  <tbody>\n",
       "    <tr>\n",
       "      <th>0</th>\n",
       "      <td>1121378</td>\n",
       "      <td>2015-04-01T05:20:45.513</td>\n",
       "      <td>407624</td>\n",
       "      <td>356328</td>\n",
       "      <td>1</td>\n",
       "    </tr>\n",
       "  </tbody>\n",
       "</table>\n",
       "</div>"
      ],
      "text/plain": [
       "        Id             CreationDate  PostId  RelatedPostId  LinkTypeId\n",
       "0  1121378  2015-04-01T05:20:45.513  407624         356328           1"
      ]
     },
     "execution_count": 632,
     "metadata": {},
     "output_type": "execute_result"
    }
   ],
   "source": [
    "df_postLinks.head(1)"
   ]
  },
  {
   "cell_type": "markdown",
   "metadata": {},
   "source": [
    "### POSTS"
   ]
  },
  {
   "cell_type": "code",
   "execution_count": 604,
   "metadata": {},
   "outputs": [],
   "source": [
    "df_post = pd.read_csv('Posts.csv')"
   ]
  },
  {
   "cell_type": "code",
   "execution_count": 606,
   "metadata": {},
   "outputs": [],
   "source": [
    "#df_post.drop('Unnamed: 0',axis =1,inplace=True)"
   ]
  },
  {
   "cell_type": "code",
   "execution_count": 1092,
   "metadata": {},
   "outputs": [
    {
     "data": {
      "text/plain": [
       "NaN                      320738\n",
       "Проблема с кодировкой        14\n",
       "Сортировка массива           12\n",
       "SQL запрос                    7\n",
       "Форма обратной связи          7\n",
       "Name: Title, dtype: int64"
      ]
     },
     "execution_count": 1092,
     "metadata": {},
     "output_type": "execute_result"
    }
   ],
   "source": [
    "df_post.Title.value_counts(dropna = False)[:5]"
   ]
  },
  {
   "cell_type": "code",
   "execution_count": 1081,
   "metadata": {},
   "outputs": [
    {
     "data": {
      "text/html": [
       "<div>\n",
       "<style scoped>\n",
       "    .dataframe tbody tr th:only-of-type {\n",
       "        vertical-align: middle;\n",
       "    }\n",
       "\n",
       "    .dataframe tbody tr th {\n",
       "        vertical-align: top;\n",
       "    }\n",
       "\n",
       "    .dataframe thead th {\n",
       "        text-align: right;\n",
       "    }\n",
       "</style>\n",
       "<table border=\"1\" class=\"dataframe\">\n",
       "  <thead>\n",
       "    <tr style=\"text-align: right;\">\n",
       "      <th></th>\n",
       "      <th>Id</th>\n",
       "      <th>PostTypeId</th>\n",
       "      <th>AcceptedAnswerId</th>\n",
       "      <th>CreationDate</th>\n",
       "      <th>Score</th>\n",
       "      <th>ViewCount</th>\n",
       "      <th>Body</th>\n",
       "      <th>OwnerUserId</th>\n",
       "      <th>LastActivityDate</th>\n",
       "      <th>Title</th>\n",
       "      <th>Tags</th>\n",
       "      <th>AnswerCount</th>\n",
       "      <th>CommentCount</th>\n",
       "      <th>FavoriteCount</th>\n",
       "      <th>CreationDateYear</th>\n",
       "      <th>CreationDateMonth</th>\n",
       "      <th>CreationDateDay</th>\n",
       "    </tr>\n",
       "  </thead>\n",
       "  <tbody>\n",
       "    <tr>\n",
       "      <th>0</th>\n",
       "      <td>1</td>\n",
       "      <td>1</td>\n",
       "      <td>2.0</td>\n",
       "      <td>2010-10-10T15:56:41.653</td>\n",
       "      <td>38</td>\n",
       "      <td>11188.0</td>\n",
       "      <td>&lt;p&gt;Нужен простейший пример посылки письма с вл...</td>\n",
       "      <td>2.0</td>\n",
       "      <td>2010-10-10T15:56:41.663</td>\n",
       "      <td>Как из скрипта на Питоне послать письмо с влож...</td>\n",
       "      <td>&lt;python&gt;&lt;smtp&gt;</td>\n",
       "      <td>1.0</td>\n",
       "      <td>1</td>\n",
       "      <td>8.0</td>\n",
       "      <td>2010</td>\n",
       "      <td>10</td>\n",
       "      <td>10</td>\n",
       "    </tr>\n",
       "  </tbody>\n",
       "</table>\n",
       "</div>"
      ],
      "text/plain": [
       "   Id  PostTypeId  AcceptedAnswerId             CreationDate  Score  \\\n",
       "0   1           1               2.0  2010-10-10T15:56:41.653     38   \n",
       "\n",
       "   ViewCount                                               Body  OwnerUserId  \\\n",
       "0    11188.0  <p>Нужен простейший пример посылки письма с вл...          2.0   \n",
       "\n",
       "          LastActivityDate                                              Title  \\\n",
       "0  2010-10-10T15:56:41.663  Как из скрипта на Питоне послать письмо с влож...   \n",
       "\n",
       "             Tags  AnswerCount  CommentCount  FavoriteCount  CreationDateYear  \\\n",
       "0  <python><smtp>          1.0             1            8.0              2010   \n",
       "\n",
       "   CreationDateMonth  CreationDateDay  \n",
       "0                 10               10  "
      ]
     },
     "execution_count": 1081,
     "metadata": {},
     "output_type": "execute_result"
    }
   ],
   "source": [
    "df_post.head(1)"
   ]
  },
  {
   "cell_type": "code",
   "execution_count": 697,
   "metadata": {},
   "outputs": [
    {
     "data": {
      "text/html": [
       "<div>\n",
       "<style scoped>\n",
       "    .dataframe tbody tr th:only-of-type {\n",
       "        vertical-align: middle;\n",
       "    }\n",
       "\n",
       "    .dataframe tbody tr th {\n",
       "        vertical-align: top;\n",
       "    }\n",
       "\n",
       "    .dataframe thead th {\n",
       "        text-align: right;\n",
       "    }\n",
       "</style>\n",
       "<table border=\"1\" class=\"dataframe\">\n",
       "  <thead>\n",
       "    <tr style=\"text-align: right;\">\n",
       "      <th></th>\n",
       "      <th>Body</th>\n",
       "    </tr>\n",
       "  </thead>\n",
       "  <tbody>\n",
       "    <tr>\n",
       "      <th>0</th>\n",
       "      <td>&lt;p&gt;Нужен простейший пример посылки письма с вл...</td>\n",
       "    </tr>\n",
       "    <tr>\n",
       "      <th>2</th>\n",
       "      <td>&lt;p&gt;Например, имеется пользователь &lt;em&gt;postgres...</td>\n",
       "    </tr>\n",
       "    <tr>\n",
       "      <th>4</th>\n",
       "      <td>&lt;p&gt;Какая команда Linux наиболее подходит подоб...</td>\n",
       "    </tr>\n",
       "    <tr>\n",
       "      <th>5</th>\n",
       "      <td>&lt;p&gt;Для подобного поиска подходит команда find....</td>\n",
       "    </tr>\n",
       "    <tr>\n",
       "      <th>6</th>\n",
       "      <td>&lt;p&gt;При попытке извлечения кода svn выдает след...</td>\n",
       "    </tr>\n",
       "    <tr>\n",
       "      <th>7</th>\n",
       "      <td>&lt;p&gt;Нужно прописать параметры прокси в настройк...</td>\n",
       "    </tr>\n",
       "    <tr>\n",
       "      <th>8</th>\n",
       "      <td>&lt;p&gt;Какая команда наиболее проста и удобна?&lt;/p&gt;</td>\n",
       "    </tr>\n",
       "    <tr>\n",
       "      <th>9</th>\n",
       "      <td>&lt;p&gt;Команда wc выводит количество переводов стр...</td>\n",
       "    </tr>\n",
       "    <tr>\n",
       "      <th>10</th>\n",
       "      <td>&lt;p&gt;Во всех файлах в папке и во вложенных папка...</td>\n",
       "    </tr>\n",
       "    <tr>\n",
       "      <th>12</th>\n",
       "      <td>&lt;p&gt;При попытке извлечения кода git выдает ошиб...</td>\n",
       "    </tr>\n",
       "  </tbody>\n",
       "</table>\n",
       "</div>"
      ],
      "text/plain": [
       "                                                 Body\n",
       "0   <p>Нужен простейший пример посылки письма с вл...\n",
       "2   <p>Например, имеется пользователь <em>postgres...\n",
       "4   <p>Какая команда Linux наиболее подходит подоб...\n",
       "5   <p>Для подобного поиска подходит команда find....\n",
       "6   <p>При попытке извлечения кода svn выдает след...\n",
       "7   <p>Нужно прописать параметры прокси в настройк...\n",
       "8      <p>Какая команда наиболее проста и удобна?</p>\n",
       "9   <p>Команда wc выводит количество переводов стр...\n",
       "10  <p>Во всех файлах в папке и во вложенных папка...\n",
       "12  <p>При попытке извлечения кода git выдает ошиб..."
      ]
     },
     "execution_count": 697,
     "metadata": {},
     "output_type": "execute_result"
    }
   ],
   "source": [
    "# пример для user\n",
    "df_post[df_post.OwnerUserId ==2].loc[:,['Body']][:10]"
   ]
  },
  {
   "cell_type": "code",
   "execution_count": 1089,
   "metadata": {},
   "outputs": [
    {
     "data": {
      "text/plain": [
       "['<p>Нужен простейший пример посылки письма с вложением через внешний SMTP сервер, например, smtp.yandex.ru.</p>']"
      ]
     },
     "execution_count": 1089,
     "metadata": {},
     "output_type": "execute_result"
    }
   ],
   "source": [
    "# пример для user\n",
    "df_post[df_post.OwnerUserId ==2].loc[:,['Body']][:1].Body.to_list()"
   ]
  },
  {
   "cell_type": "code",
   "execution_count": 699,
   "metadata": {},
   "outputs": [
    {
     "data": {
      "text/html": [
       "<div>\n",
       "<style scoped>\n",
       "    .dataframe tbody tr th:only-of-type {\n",
       "        vertical-align: middle;\n",
       "    }\n",
       "\n",
       "    .dataframe tbody tr th {\n",
       "        vertical-align: top;\n",
       "    }\n",
       "\n",
       "    .dataframe thead th {\n",
       "        text-align: right;\n",
       "    }\n",
       "</style>\n",
       "<table border=\"1\" class=\"dataframe\">\n",
       "  <thead>\n",
       "    <tr style=\"text-align: right;\">\n",
       "      <th></th>\n",
       "      <th>Title</th>\n",
       "    </tr>\n",
       "  </thead>\n",
       "  <tbody>\n",
       "    <tr>\n",
       "      <th>0</th>\n",
       "      <td>Как из скрипта на Питоне послать письмо с влож...</td>\n",
       "    </tr>\n",
       "    <tr>\n",
       "      <th>2</th>\n",
       "      <td>Как сохранить и восстановить базу данных Postg...</td>\n",
       "    </tr>\n",
       "    <tr>\n",
       "      <th>4</th>\n",
       "      <td>Как найти файл по имени в папках командой из т...</td>\n",
       "    </tr>\n",
       "    <tr>\n",
       "      <th>5</th>\n",
       "      <td>NaN</td>\n",
       "    </tr>\n",
       "    <tr>\n",
       "      <th>6</th>\n",
       "      <td>Как работать с svn через HTTP прокси на Ubuntu?</td>\n",
       "    </tr>\n",
       "    <tr>\n",
       "      <th>7</th>\n",
       "      <td>NaN</td>\n",
       "    </tr>\n",
       "    <tr>\n",
       "      <th>8</th>\n",
       "      <td>Как подсчитать строки в файле из терминала в U...</td>\n",
       "    </tr>\n",
       "    <tr>\n",
       "      <th>9</th>\n",
       "      <td>NaN</td>\n",
       "    </tr>\n",
       "    <tr>\n",
       "      <th>10</th>\n",
       "      <td>Как из терминала заменить слово в файлах в Ubu...</td>\n",
       "    </tr>\n",
       "    <tr>\n",
       "      <th>12</th>\n",
       "      <td>Как работать с git через HTTP прокси на Ubuntu?</td>\n",
       "    </tr>\n",
       "  </tbody>\n",
       "</table>\n",
       "</div>"
      ],
      "text/plain": [
       "                                                Title\n",
       "0   Как из скрипта на Питоне послать письмо с влож...\n",
       "2   Как сохранить и восстановить базу данных Postg...\n",
       "4   Как найти файл по имени в папках командой из т...\n",
       "5                                                 NaN\n",
       "6     Как работать с svn через HTTP прокси на Ubuntu?\n",
       "7                                                 NaN\n",
       "8   Как подсчитать строки в файле из терминала в U...\n",
       "9                                                 NaN\n",
       "10  Как из терминала заменить слово в файлах в Ubu...\n",
       "12    Как работать с git через HTTP прокси на Ubuntu?"
      ]
     },
     "execution_count": 699,
     "metadata": {},
     "output_type": "execute_result"
    }
   ],
   "source": [
    "df_post[df_post.OwnerUserId ==2].loc[:,['Title']][:10]"
   ]
  },
  {
   "cell_type": "markdown",
   "metadata": {},
   "source": [
    "### PostHistory (для работы не пригодится)"
   ]
  },
  {
   "cell_type": "code",
   "execution_count": 622,
   "metadata": {},
   "outputs": [],
   "source": [
    "df_postHistory = pd.read_csv('PostHistory.csv')"
   ]
  },
  {
   "cell_type": "code",
   "execution_count": 1087,
   "metadata": {},
   "outputs": [
    {
     "data": {
      "text/plain": [
       "['Как из скрипта на Питоне послать письмо с вложением?']"
      ]
     },
     "execution_count": 1087,
     "metadata": {},
     "output_type": "execute_result"
    }
   ],
   "source": [
    "df_postHistory[df_postHistory.UserId ==2].loc[:,['Text']][:1].Text.to_list()"
   ]
  },
  {
   "cell_type": "code",
   "execution_count": 1083,
   "metadata": {},
   "outputs": [
    {
     "data": {
      "text/html": [
       "<div>\n",
       "<style scoped>\n",
       "    .dataframe tbody tr th:only-of-type {\n",
       "        vertical-align: middle;\n",
       "    }\n",
       "\n",
       "    .dataframe tbody tr th {\n",
       "        vertical-align: top;\n",
       "    }\n",
       "\n",
       "    .dataframe thead th {\n",
       "        text-align: right;\n",
       "    }\n",
       "</style>\n",
       "<table border=\"1\" class=\"dataframe\">\n",
       "  <thead>\n",
       "    <tr style=\"text-align: right;\">\n",
       "      <th></th>\n",
       "      <th>Text</th>\n",
       "    </tr>\n",
       "  </thead>\n",
       "  <tbody>\n",
       "    <tr>\n",
       "      <th>0</th>\n",
       "      <td>Как из скрипта на Питоне послать письмо с влож...</td>\n",
       "    </tr>\n",
       "    <tr>\n",
       "      <th>1</th>\n",
       "      <td>Нужен простейший пример посылки письма с вложе...</td>\n",
       "    </tr>\n",
       "    <tr>\n",
       "      <th>2</th>\n",
       "      <td>pythonsmtp</td>\n",
       "    </tr>\n",
       "    <tr>\n",
       "      <th>5</th>\n",
       "      <td>Как сохранить и восстановить базу данных Postg...</td>\n",
       "    </tr>\n",
       "    <tr>\n",
       "      <th>6</th>\n",
       "      <td>Например, имеется пользователь postgres, база ...</td>\n",
       "    </tr>\n",
       "    <tr>\n",
       "      <th>7</th>\n",
       "      <td>postgresql</td>\n",
       "    </tr>\n",
       "    <tr>\n",
       "      <th>10</th>\n",
       "      <td>Как найти файл по имени в нижележащих папках к...</td>\n",
       "    </tr>\n",
       "    <tr>\n",
       "      <th>11</th>\n",
       "      <td>Какая команда Linux наиболее подходит подобног...</td>\n",
       "    </tr>\n",
       "    <tr>\n",
       "      <th>12</th>\n",
       "      <td>linux</td>\n",
       "    </tr>\n",
       "    <tr>\n",
       "      <th>13</th>\n",
       "      <td>Как найти файл по имени в папках командой из т...</td>\n",
       "    </tr>\n",
       "  </tbody>\n",
       "</table>\n",
       "</div>"
      ],
      "text/plain": [
       "                                                 Text\n",
       "0   Как из скрипта на Питоне послать письмо с влож...\n",
       "1   Нужен простейший пример посылки письма с вложе...\n",
       "2                                          pythonsmtp\n",
       "5   Как сохранить и восстановить базу данных Postg...\n",
       "6   Например, имеется пользователь postgres, база ...\n",
       "7                                          postgresql\n",
       "10  Как найти файл по имени в нижележащих папках к...\n",
       "11  Какая команда Linux наиболее подходит подобног...\n",
       "12                                              linux\n",
       "13  Как найти файл по имени в папках командой из т..."
      ]
     },
     "execution_count": 1083,
     "metadata": {},
     "output_type": "execute_result"
    }
   ],
   "source": [
    "df_postHistory[df_postHistory.UserId ==2].loc[:,['Text']][:10]"
   ]
  },
  {
   "cell_type": "code",
   "execution_count": 716,
   "metadata": {},
   "outputs": [],
   "source": [
    "df_postHistory['CreationDateYear'] = df_postHistory['CreationDate'].apply(str_to_datetime_year)\n",
    "df_postHistory['CreationDateMonth'] = df_postHistory['CreationDate'].apply(str_to_datetime_month)\n",
    "df_postHistory['CreationDateDay'] = df_postHistory['CreationDate'].apply(str_to_datetime_day)"
   ]
  },
  {
   "cell_type": "code",
   "execution_count": 719,
   "metadata": {},
   "outputs": [
    {
     "data": {
      "text/plain": [
       "2018    372894\n",
       "2017    372097\n",
       "2016    312055\n",
       "2019    223935\n",
       "2015    194055\n",
       "2012    136203\n",
       "2014    121301\n",
       "2013    116792\n",
       "2011     84213\n",
       "2010      2057\n",
       "Name: CreationDateYear, dtype: int64"
      ]
     },
     "execution_count": 719,
     "metadata": {},
     "output_type": "execute_result"
    }
   ],
   "source": [
    "df_postHistory.CreationDateYear.value_counts(dropna = False)"
   ]
  }
 ],
 "metadata": {
  "kernelspec": {
   "display_name": "Python 3",
   "language": "python",
   "name": "python3"
  },
  "language_info": {
   "codemirror_mode": {
    "name": "ipython",
    "version": 3
   },
   "file_extension": ".py",
   "mimetype": "text/x-python",
   "name": "python",
   "nbconvert_exporter": "python",
   "pygments_lexer": "ipython3",
   "version": "3.6.8"
  },
  "latex_envs": {
   "LaTeX_envs_menu_present": true,
   "autoclose": false,
   "autocomplete": true,
   "bibliofile": "biblio.bib",
   "cite_by": "apalike",
   "current_citInitial": 1,
   "eqLabelWithNumbers": true,
   "eqNumInitial": 1,
   "hotkeys": {
    "equation": "Ctrl-E",
    "itemize": "Ctrl-I"
   },
   "labels_anchors": false,
   "latex_user_defs": false,
   "report_style_numbering": false,
   "user_envs_cfg": false
  }
 },
 "nbformat": 4,
 "nbformat_minor": 2
}
